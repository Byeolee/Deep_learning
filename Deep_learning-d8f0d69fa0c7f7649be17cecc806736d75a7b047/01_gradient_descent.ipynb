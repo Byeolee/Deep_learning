{
 "cells": [
  {
   "cell_type": "code",
   "execution_count": 1,
   "metadata": {
    "collapsed": true
   },
   "outputs": [],
   "source": [
    "import numpy as np"
   ]
  },
  {
   "cell_type": "code",
   "execution_count": 2,
   "metadata": {},
   "outputs": [
    {
     "name": "stdout",
     "output_type": "stream",
     "text": [
      "(100,)\n"
     ]
    },
    {
     "data": {
      "text/plain": [
       "array([ 0.36346485,  0.36364282,  0.76186016,  0.48854071,  0.38507109,\n",
       "        0.93119767,  0.61497263,  0.51871936,  0.71000265,  0.69258948])"
      ]
     },
     "execution_count": 2,
     "metadata": {},
     "output_type": "execute_result"
    }
   ],
   "source": [
    "x = np.random.uniform(low=0.0, high=1.0, size=100)\n",
    "\n",
    "print(x.shape)\n",
    "x[0:10]"
   ]
  },
  {
   "cell_type": "code",
   "execution_count": 9,
   "metadata": {},
   "outputs": [
    {
     "data": {
      "text/plain": [
       "array([ 0.10903945,  0.10909285,  0.22855805,  0.14656221,  0.11552133,\n",
       "        0.2793593 ,  0.18449179,  0.15561581,  0.2130008 ,  0.20777684])"
      ]
     },
     "execution_count": 9,
     "metadata": {},
     "output_type": "execute_result"
    }
   ],
   "source": [
    "y = 0.3 * x\n",
    "y[0:10]"
   ]
  },
  {
   "cell_type": "code",
   "execution_count": 12,
   "metadata": {},
   "outputs": [],
   "source": [
    "%matplotlib inline\n",
    "import matplotlib.pyplot as plt"
   ]
  },
  {
   "cell_type": "code",
   "execution_count": 13,
   "metadata": {},
   "outputs": [
    {
     "data": {
      "text/plain": [
       "<matplotlib.collections.PathCollection at 0x1f60143a2e8>"
      ]
     },
     "execution_count": 13,
     "metadata": {},
     "output_type": "execute_result"
    },
    {
     "data": {
      "image/png": "[encoded data removed]",
      "text/plain": [
       "<matplotlib.figure.Figure at 0x1f67f657e10>"
      ]
     },
     "metadata": {},
     "output_type": "display_data"
    }
   ],
   "source": [
    "plt.scatter(x, y)"
   ]
  },
  {
   "cell_type": "code",
   "execution_count": null,
   "metadata": {
    "collapsed": true
   },
   "outputs": [],
   "source": []
  },
  {
   "cell_type": "code",
   "execution_count": null,
   "metadata": {
    "collapsed": true
   },
   "outputs": [],
   "source": []
  },
  {
   "cell_type": "code",
   "execution_count": null,
   "metadata": {
    "collapsed": true
   },
   "outputs": [],
   "source": []
  },
  {
   "cell_type": "code",
   "execution_count": null,
   "metadata": {
    "collapsed": true
   },
   "outputs": [],
   "source": []
  },
  {
   "cell_type": "code",
   "execution_count": 8,
   "metadata": {
    "collapsed": true
   },
   "outputs": [],
   "source": [
    "# 우리는 x와 y의 관계인 0.3을 알고있지만, 기계는 모르고 이걸 찾아보라고 시킨다고 가정."
   ]
  },
  {
   "cell_type": "code",
   "execution_count": null,
   "metadata": {
    "collapsed": true
   },
   "outputs": [],
   "source": []
  },
  {
   "cell_type": "markdown",
   "metadata": {},
   "source": [
    "### Case 1 - Random search"
   ]
  },
  {
   "cell_type": "code",
   "execution_count": 17,
   "metadata": {},
   "outputs": [
    {
     "name": "stdout",
     "output_type": "stream",
     "text": [
      "0 0.5536420273998437 0.113016443847\n",
      "1 0.46483824241845784 0.0734477332444\n",
      "3 0.17796263419970548 0.0543767499437\n",
      "10 0.2879271074279055 0.00537937422842\n",
      "77 0.2960649527487188 0.0017533570886\n",
      "----------------------------------------\n",
      "77 0.2960649527487188 0.0017533570886\n"
     ]
    }
   ],
   "source": [
    "num_epoch = 100\n",
    "\n",
    "best_w = None\n",
    "best_epoch = None\n",
    "best_error = 9999\n",
    "\n",
    "for epoch in range(num_epoch):\n",
    "    w = np.random.uniform(low=0.0, high=1.0)\n",
    "    y_predict = w * x\n",
    "    \n",
    "    error = np.abs(y_predict - y).mean()\n",
    "    \n",
    "    if error < best_error:\n",
    "        best_error = error\n",
    "        best_w = w\n",
    "        best_epoch = epoch\n",
    "        \n",
    "        print (best_epoch, best_w, best_error)\n",
    "        \n",
    "print(\"----\" * 10)\n",
    "print(best_epoch, best_w, best_error)\n"
   ]
  },
  {
   "cell_type": "markdown",
   "metadata": {},
   "source": [
    "### Case 2. h-step search"
   ]
  },
  {
   "cell_type": "code",
   "execution_count": 18,
   "metadata": {},
   "outputs": [
    {
     "name": "stdout",
     "output_type": "stream",
     "text": [
      "14 0.30434050434050397 0.00193401846726\n"
     ]
    }
   ],
   "source": [
    "# h가 너무 작으면, 정해진 epoch 내에서 찾지 못할 수 있다. 따라서 h를 무엇으로 지정할 것인가는 성능에 중요한 영향을 준다.\n",
    "# 그렇다면 h도 스스로 찾아준다면 어떨까?\n",
    "# 따라서, 초기 w에서 발생하는 error가 크다면 h를 크게 조정하여 움직여주고, 아니면 더 작게 움직여준다; 이게 바로 Gradient Descent.\n",
    "\n",
    "num_epoch = 100\n",
    "h = 0.01\n",
    "\n",
    "w = np.random.uniform(low=0.0, high=1.0)\n",
    "\n",
    "for epoch in range(num_epoch):\n",
    "    y_predict = w * x\n",
    "    current_error = np.abs(y_predict - y).mean()\n",
    "    \n",
    "    y_predict = (w+h) * x\n",
    "    h_plus_error = np.abs(y_predict - y).mean()\n",
    "    if h_plus_error < current_error:\n",
    "        w = w + h\n",
    "        continue\n",
    "        \n",
    "    y_predict = (w - h) * x\n",
    "    h_minus_error = np.abs(y_predict - y).mean()\n",
    "    if h_minus_error < current_error:\n",
    "        w = w - h\n",
    "        continue\n",
    "        \n",
    "    break\n",
    "    \n",
    "print(epoch, w, current_error)"
   ]
  },
  {
   "cell_type": "markdown",
   "metadata": {},
   "source": [
    "### Case 3. Gradient Descent (Not completed)"
   ]
  },
  {
   "cell_type": "code",
   "execution_count": 52,
   "metadata": {},
   "outputs": [
    {
     "name": "stdout",
     "output_type": "stream",
     "text": [
      "0 0.500735030916 0.447920510719\n",
      "1 0.749073541104 0.272461377775\n",
      "2 0.886758719983 0.243903318461\n",
      "3 0.963094880931 0.256137971657\n",
      "4 1.00541758782 0.267114810568\n",
      "5 1.02888237169 0.273943624498\n",
      "6 1.04189184397 0.278139065281\n",
      "7 1.04910462589 0.280679295752\n",
      "8 1.05310357543 0.282087664058\n",
      "9 1.05532069464 0.282868499224\n",
      "10 1.05654992186 0.283301414077\n",
      "11 1.05723143665 0.28354143307\n",
      "12 1.05760928577 0.283674505697\n",
      "13 1.05781877492 0.283748284542\n",
      "14 1.05793492102 0.283789189407\n",
      "15 1.05799931537 0.283811868104\n",
      "16 1.05803501724 0.28382444175\n",
      "17 1.05805481126 0.283831412898\n",
      "18 1.05806578557 0.28383527788\n",
      "19 1.05807187 0.283837420724\n",
      "20 1.05807524337 0.283838608772\n",
      "21 1.05807711365 0.283839267455\n",
      "22 1.05807815058 0.283839632646\n",
      "23 1.05807872548 0.283839835117\n",
      "24 1.05807904422 0.283839947372\n",
      "25 1.05807922094 0.28384000961\n",
      "26 1.05807931891 0.283840044115\n",
      "27 1.05807937323 0.283840063246\n",
      "28 1.05807940335 0.283840073853\n",
      "29 1.05807942005 0.283840079734\n",
      "30 1.0580794293 0.283840082994\n",
      "31 1.05807943444 0.283840084801\n",
      "32 1.05807943728 0.283840085804\n",
      "33 1.05807943886 0.283840086359\n",
      "34 1.05807943974 0.283840086667\n",
      "35 1.05807944022 0.283840086838\n",
      "36 1.05807944049 0.283840086933\n",
      "37 1.05807944064 0.283840086985\n",
      "38 1.05807944072 0.283840087014\n",
      "39 1.05807944077 0.283840087031\n",
      "40 1.05807944079 0.28384008704\n",
      "41 1.05807944081 0.283840087045\n",
      "42 1.05807944081 0.283840087047\n",
      "43 1.05807944082 0.283840087049\n",
      "44 1.05807944082 0.28384008705\n",
      "45 1.05807944082 0.28384008705\n",
      "46 1.05807944082 0.28384008705\n",
      "47 1.05807944082 0.283840087051\n",
      "48 1.05807944082 0.283840087051\n",
      "49 1.05807944082 0.283840087051\n",
      "50 1.05807944082 0.283840087051\n",
      "51 1.05807944082 0.283840087051\n",
      "52 1.05807944082 0.283840087051\n",
      "53 1.05807944082 0.283840087051\n",
      "54 1.05807944082 0.283840087051\n",
      "55 1.05807944082 0.283840087051\n",
      "56 1.05807944082 0.283840087051\n",
      "57 1.05807944082 0.283840087051\n",
      "58 1.05807944082 0.283840087051\n",
      "59 1.05807944082 0.283840087051\n",
      "60 1.05807944082 0.283840087051\n",
      "61 1.05807944082 0.283840087051\n",
      "62 1.05807944082 0.283840087051\n",
      "63 1.05807944082 0.283840087051\n",
      "64 1.05807944082 0.283840087051\n",
      "65 1.05807944082 0.283840087051\n",
      "66 1.05807944082 0.283840087051\n",
      "67 1.05807944082 0.283840087051\n",
      "68 1.05807944082 0.283840087051\n",
      "69 1.05807944082 0.283840087051\n",
      "70 1.05807944082 0.283840087051\n",
      "71 1.05807944082 0.283840087051\n",
      "72 1.05807944082 0.283840087051\n",
      "73 1.05807944082 0.283840087051\n",
      "74 1.05807944082 0.283840087051\n",
      "75 1.05807944082 0.283840087051\n",
      "76 1.05807944082 0.283840087051\n",
      "77 1.05807944082 0.283840087051\n",
      "78 1.05807944082 0.283840087051\n",
      "79 1.05807944082 0.283840087051\n",
      "80 1.05807944082 0.283840087051\n",
      "81 1.05807944082 0.283840087051\n",
      "82 1.05807944082 0.283840087051\n",
      "83 1.05807944082 0.283840087051\n",
      "84 1.05807944082 0.283840087051\n",
      "85 1.05807944082 0.283840087051\n",
      "86 1.05807944082 0.283840087051\n",
      "87 1.05807944082 0.283840087051\n",
      "88 1.05807944082 0.283840087051\n",
      "89 1.05807944082 0.283840087051\n",
      "90 1.05807944082 0.283840087051\n",
      "91 1.05807944082 0.283840087051\n",
      "92 1.05807944082 0.283840087051\n",
      "93 1.05807944082 0.283840087051\n",
      "94 1.05807944082 0.283840087051\n",
      "95 1.05807944082 0.283840087051\n",
      "96 1.05807944082 0.283840087051\n",
      "97 1.05807944082 0.283840087051\n",
      "98 1.05807944082 0.283840087051\n",
      "99 1.05807944082 0.283840087051\n",
      "----------------------------------------\n",
      "99 1.05807944082 0.00193401846726\n"
     ]
    }
   ],
   "source": [
    "num_epoch = 100\n",
    "h = 0.01\n",
    "\n",
    "w = np.random.uniform(low=0.0, high=1.0)\n",
    "\n",
    "for epoch in range(num_epoch):\n",
    "    y_predict = w * x\n",
    "    error = np.abs(y_predict - y).mean()\n",
    "    if error < 0.0001:\n",
    "        break\n",
    "        \n",
    "    w = w - (y_predict-y).mean()\n",
    "    \n",
    "    print(epoch, w, error)\n",
    "    \n",
    "print(\"----\"*10)\n",
    "print(epoch, w, current_error)\n",
    "\n",
    "### GD에서 error 수정할때 왜 y_predict - y하면 되는건지 이해가 잘 안됨. 차원이 맞지 않는거 아닌가?\n",
    "### 해결; Loss function을 편미분해보면 알게 됨."
   ]
  },
  {
   "cell_type": "markdown",
   "metadata": {},
   "source": [
    "### multiple features"
   ]
  },
  {
   "cell_type": "markdown",
   "metadata": {},
   "source": [
    "### - random search"
   ]
  },
  {
   "cell_type": "code",
   "execution_count": 29,
   "metadata": {
    "collapsed": true
   },
   "outputs": [],
   "source": [
    "x1 = np.random.uniform(low=0.0, high=1.0, size=100)\n",
    "x2 = np.random.uniform(low=0.0, high=1.0, size=100)"
   ]
  },
  {
   "cell_type": "code",
   "execution_count": 30,
   "metadata": {
    "collapsed": true
   },
   "outputs": [],
   "source": [
    "y=0.3 * x1 + 0.5 * x2"
   ]
  },
  {
   "cell_type": "code",
   "execution_count": 35,
   "metadata": {
    "scrolled": true
   },
   "outputs": [
    {
     "name": "stdout",
     "output_type": "stream",
     "text": [
      "0 0.344410368148222 0.36696235130949084 0.0412566145775\n",
      "5 0.4076425375185747 0.3686784226334283 0.0376913096874\n",
      "28 0.31052186796897985 0.4483831397513627 0.0179252797425\n",
      "145 0.279086856924049 0.5236463923084859 0.00699266867403\n",
      "804 0.2987439073155559 0.5075529939711775 0.00273818174785\n",
      "2502 0.3068944512022965 0.4961747821600495 0.00235763216841\n",
      "5249 0.2976357431216644 0.5048322413266636 0.00137192213369\n",
      "8795 0.30109326010424053 0.49885622976398125 0.000350114149424\n",
      "----------------------------------------\n",
      "8795 0.30109326010424053 0.49885622976398125 0.000350114149424\n"
     ]
    }
   ],
   "source": [
    "num_epoch = 100\n",
    "\n",
    "best_w1 = None\n",
    "best_w2 = None\n",
    "best_epoch = None\n",
    "best_error = 9999\n",
    "\n",
    "for epoch in range(num_epoch):\n",
    "    w1 = np.random.uniform(low=0.0, high=1.0)\n",
    "    w2 = np.random.uniform(low=0.0, high=1.0)\n",
    "    y_predict = w1 * x1 + w2 * x2\n",
    "    \n",
    "    error = np.abs(y_predict - y).mean()\n",
    "    \n",
    "    if error<0.0001:\n",
    "        break\n",
    "    \n",
    "    if error < best_error:\n",
    "        best_error = error\n",
    "        best_w1 = w1\n",
    "        best_w2 = w2\n",
    "        best_epoch = epoch\n",
    "        \n",
    "        print (best_epoch, best_w1, best_w2, best_error)\n",
    "        \n",
    "print(\"----\" * 10)\n",
    "print(best_epoch, best_w1, best_w2, best_error)"
   ]
  },
  {
   "cell_type": "markdown",
   "metadata": {},
   "source": [
    "### Gradient descent"
   ]
  },
  {
   "cell_type": "code",
   "execution_count": 39,
   "metadata": {},
   "outputs": [
    {
     "name": "stdout",
     "output_type": "stream",
     "text": [
      "0 0.573583499159 0.319747245913 0.14133461539\n",
      "1 0.52232076128 0.305928533782 0.0896133706573\n",
      "2 0.491596580515 0.307644592463 0.0695175085096\n",
      "3 0.470885326585 0.315951838403 0.0603830018266\n",
      "4 0.455281213996 0.326757295592 0.0555665536832\n",
      "5 0.442480422189 0.338208236829 0.0515165426407\n",
      "6 0.431385107432 0.349485111405 0.0477613494106\n",
      "7 0.421457563509 0.360243483513 0.0442731667562\n",
      "8 0.412421344109 0.370356125944 0.0410352875567\n",
      "9 0.404122869646 0.379793922594 0.038032149628\n",
      "10 0.396467270787 0.388570957251 0.0352478423645\n",
      "11 0.389388577768 0.396719276279 0.0326669321047\n",
      "12 0.382835804944 0.404277363978 0.0302747971364\n",
      "13 0.376766396323 0.411284949311 0.0280577393313\n",
      "14 0.371143084284 0.417780730898 0.0260029956402\n",
      "15 0.365932334949 0.423801442422 0.0240987062127\n",
      "16 0.361103534842 0.42938152938 0.0223338651795\n",
      "17 0.356628527313 0.434553100598 0.0206982659411\n",
      "18 0.352481317121 0.439345999423 0.0191824462547\n",
      "19 0.348637858726 0.443787923415 0.0177776353963\n",
      "20 0.345075888807 0.447904560121 0.0164757042929\n",
      "21 0.34177478431 0.451719724386 0.0152691188897\n",
      "22 0.338715437042 0.455255490929 0.0141508967398\n",
      "23 0.335880140288 0.458532319661 0.0131145666848\n",
      "24 0.333252485044 0.461569172971 0.0121541314459\n",
      "25 0.330817264453 0.46438362494 0.0112640329366\n",
      "26 0.328560385534 0.466991962805 0.0104391201059\n",
      "27 0.326468787488 0.469409281105 0.00967461913296\n",
      "28 0.324530366057 0.471649568976 0.00896610580291\n",
      "29 0.322733903452 0.473725791092 0.00830947990409\n",
      "30 0.321069003418 0.475649962676 0.00770094150041\n",
      "31 0.319526031068 0.477433219029 0.00713696894108\n",
      "32 0.31809605712 0.479085879968 0.00661429848064\n",
      "33 0.31677080622 0.480617509548 0.00612990539149\n",
      "34 0.315542609056 0.482036971408 0.00568098645965\n",
      "35 0.314404357972 0.483352480065 0.00526494376234\n",
      "36 0.313349465835 0.484571648452 0.00487936963369\n",
      "37 0.312371827917 0.485701531974 0.00452203273138\n",
      "38 0.311465786565 0.486748669342 0.00419086512374\n",
      "39 0.310626098457 0.487719120405 0.00388395032249\n",
      "40 0.309847904266 0.488618501227 0.00359951219192\n",
      "41 0.309126700531 0.489452016582 0.00333590467024\n",
      "42 0.308458313599 0.490224490079 0.00309160224375\n",
      "43 0.307838875474 0.490940392069 0.00286519111856\n",
      "44 0.307264801425 0.491603865525 0.00265536103892\n",
      "45 0.306732769251 0.49221875001 0.00246089770463\n",
      "46 0.306239700045 0.492788603901 0.00228067574387\n",
      "47 0.305782740386 0.493316724977 0.00211365220053\n",
      "48 0.305359245818 0.493806169511 0.00195886049861\n",
      "49 0.30496676555 0.494259769948 0.00181540484856\n",
      "50 0.304603028275 0.494680151304 0.00168245506329\n",
      "51 0.30426592902 0.495069746354 0.00155924175384\n",
      "52 0.303953516972 0.495430809708 0.00144505187685\n",
      "53 0.303663984181 0.495765430863 0.00133922460814\n",
      "54 0.303395655103 0.496075546295 0.00124114751849\n",
      "55 0.303146976899 0.496362950659 0.00115025302948\n",
      "56 0.302916510453 0.496629307186 0.00106601512883\n",
      "57 0.302702922041 0.496876157295 0.000987946326392\n",
      "58 0.302504975614 0.497104929526 0.000915594832976\n",
      "59 0.302321525641 0.497316947797 0.000848541945831\n",
      "60 0.302151510487 0.497513439073 0.000786399625579\n",
      "61 0.301993946262 0.49769554046 0.00072880825061\n",
      "62 0.301847921133 0.497864305791 0.000675434535929\n",
      "63 0.301712590042 0.498020711723 0.00062596960441\n",
      "64 0.301587169821 0.498165663386 0.00058012719931\n",
      "65 0.301470934653 0.498299999624 0.000537642027677\n",
      "66 0.301363211879 0.498424497851 0.000498268225086\n",
      "67 0.3012633781 0.498539878546 0.000461777932807\n",
      "68 0.301170855571 0.498646809424 0.000427959979166\n",
      "69 0.301085108859 0.4987459093 0.00039661865749\n",
      "70 0.301005641742 0.498837751673 0.000367572593529\n",
      "71 0.300931994339 0.49892286804 0.000340653695842\n",
      "72 0.300863740446 0.499001750975 0.000315706183034\n",
      "73 0.300800485075 0.499074856979 0.00029258568224\n",
      "74 0.300741862163 0.49914260912 0.000271158393635\n",
      "75 0.300687532455 0.499205399486 0.000251300316119\n",
      "76 0.300637181542 0.499263591446 0.000232896529717\n",
      "77 0.300590518039 0.499317521763 0.000215840530534\n",
      "78 0.300547271902 0.499367502535 0.000200033614402\n",
      "79 0.300507192863 0.499413823003 0.000185384305681\n",
      "80 0.300470048982 0.499456751227 0.000171807827877\n",
      "81 0.300435625304 0.499496535635 0.000159225613038\n",
      "82 0.300403722618 0.499533406463 0.000147564847078\n",
      "83 0.300374156301 0.499567577084 0.000136758048392\n",
      "84 0.300346755251 0.499599245245 0.000126742677341\n",
      "85 0.300321360895 0.499628594213 0.000117460774326\n",
      "86 0.300297826276 0.499655793832 0.000108858624378\n",
      "87 0.300276015196 0.499681001507 0.000100886446301\n",
      "----------------------------------------\n",
      "88 0.300276015196 0.499681001507 0.00193401846726\n"
     ]
    }
   ],
   "source": [
    "### 업데이트의 양을 지정해 주는 것이 아니다. 패러다임을 다르게 생각해야.\n",
    "### w1, w2간 변화율이 다르다, 즉 각각의 계수가 x1, x2와 관련이 있다는 것을 알려주어야 한다.\n",
    "\n",
    "num_epoch = 100\n",
    "w1 = np.random.uniform(low=0.0, high=1.0)\n",
    "w2 = np.random.uniform(low=0.0, high=1.0)\n",
    "\n",
    "for epoch in range(num_epoch):\n",
    "    y_predict = w1 * x1 + w2 * x2\n",
    "    error = np.abs(y_predict - y).mean()\n",
    "    if error < 0.0001:\n",
    "        break\n",
    "        \n",
    "    # w1 = w1 - (y_predict-y).mean()\n",
    "    # w2 = w2 - (y_predict-y).mean()\n",
    "    ## 이렇게 하면, w1과 w2의 변화율이 똑같기 때문에 정상적으로 작동하지 않는다.\n",
    "    \n",
    "    w1 = w1 - ((y_predict-y)*x1).mean()\n",
    "    w2 = w2 - ((y_predict-y)*x2).mean()\n",
    "    print(epoch, w1, w2, error)\n",
    "    \n",
    "print(\"----\"*10)    \n",
    "print(epoch, w1, w2, current_error)"
   ]
  },
  {
   "cell_type": "markdown",
   "metadata": {},
   "source": [
    "### bias가 추가된 경우"
   ]
  },
  {
   "cell_type": "markdown",
   "metadata": {},
   "source": [
    "### - random search"
   ]
  },
  {
   "cell_type": "code",
   "execution_count": 51,
   "metadata": {
    "collapsed": true
   },
   "outputs": [],
   "source": [
    "# bias\n",
    "\n",
    "y=0.3 * x1 + 0.5 * x2 + 0.1"
   ]
  },
  {
   "cell_type": "code",
   "execution_count": null,
   "metadata": {
    "collapsed": true
   },
   "outputs": [],
   "source": []
  },
  {
   "cell_type": "code",
   "execution_count": 54,
   "metadata": {},
   "outputs": [
    {
     "name": "stdout",
     "output_type": "stream",
     "text": [
      "0 0.6523116394790606 0.781291558005622 0.0726993026194217 0.275722207945\n",
      "5 0.6532486819563917 0.41546654565198926 0.03864480655908842 0.108093739141\n",
      "7 0.3768115560716929 0.2365061234625394 0.13278635053068577 0.0701193266172\n",
      "80 0.3074191848745169 0.5257755069393898 0.03385659570710231 0.051104259941\n",
      "125 0.36555362217730436 0.5110701982117096 0.10191069392918961 0.0402245667044\n",
      "153 0.3360719894403318 0.4960887542708544 0.07176827012424525 0.0124539101786\n",
      "3935 0.31917284010434677 0.525432426801223 0.08742549326446247 0.00998870480958\n",
      "7167 0.3056868840172633 0.47277460546394134 0.11365718816293902 0.00784271231116\n",
      "41272 0.2958533327440287 0.497352392115715 0.11042549021138348 0.00715198353168\n",
      "57694 0.28704509146495694 0.5002895171632796 0.10680753680973853 0.00304810121784\n",
      "----------------------------------------\n",
      "57694 0.28704509146495694 0.5002895171632796 0.10680753680973853 0.00304810121784\n"
     ]
    }
   ],
   "source": [
    "num_epoch = 100000\n",
    "\n",
    "best_w1 = None\n",
    "best_w2 = None\n",
    "best_b = None\n",
    "best_epoch = None\n",
    "best_error = 9999\n",
    "\n",
    "for epoch in range(num_epoch):\n",
    "    w1 = np.random.uniform(low=0.0, high=1.0)\n",
    "    w2 = np.random.uniform(low=0.0, high=1.0)\n",
    "    b = np.random.uniform(low=0.0, high=1.0)\n",
    "    y_predict = w1 * x1 + w2 * x2 + b\n",
    "    \n",
    "    error = np.abs(y_predict - y).mean()\n",
    "    \n",
    "    if error<0.0001:\n",
    "        best_error = error\n",
    "        break\n",
    "    \n",
    "    if error < best_error:\n",
    "        best_error = error\n",
    "        best_w1 = w1\n",
    "        best_w2 = w2\n",
    "        best_b = b\n",
    "        best_epoch = epoch\n",
    "        \n",
    "        print (best_epoch, best_w1, best_w2, best_b, best_error)\n",
    "        \n",
    "print(\"----\" * 10)\n",
    "print(best_epoch, best_w1, best_w2, best_b, best_error)"
   ]
  },
  {
   "cell_type": "markdown",
   "metadata": {},
   "source": [
    "### Gradient Descent"
   ]
  },
  {
   "cell_type": "code",
   "execution_count": 56,
   "metadata": {},
   "outputs": [
    {
     "name": "stdout",
     "output_type": "stream",
     "text": [
      "0 0.587359300337 0.1742617107 -0.104189366372 0.405223517403\n",
      "1 0.669143379422 0.285968934991 0.0953961495822 0.201120393065\n",
      "2 0.59562285839 0.261395285864 0.00486939652253 0.122200004228\n",
      "3 0.598888464535 0.299905171719 0.0531460320783 0.0901088274319\n",
      "4 0.56754356639 0.306119854064 0.0346704637395 0.0825516368218\n",
      "5 0.554825041624 0.325908339193 0.0479678471122 0.0734994181525\n",
      "6 0.535077031566 0.337432405257 0.045827309619 0.0694437794146\n",
      "7 0.520464222451 0.351292665645 0.0508841668639 0.0638606944339\n",
      "8 0.50503435293 0.362532716525 0.0522985284239 0.0597153270036\n",
      "9 0.491526546417 0.373642717155 0.0552738024637 0.0553844830337\n",
      "10 0.478522366962 0.383535245622 0.0573241203941 0.0515880838575\n",
      "11 0.4666033319 0.392829458638 0.0596485699747 0.0479557965192\n",
      "12 0.455399301448 0.401319174486 0.0616799036783 0.0446288260774\n",
      "13 0.445002604975 0.409186896408 0.0636971627002 0.0415122369366\n",
      "14 0.435289849077 0.41642248935 0.0655735352688 0.0386262164462\n",
      "15 0.426246535992 0.423102267861 0.0673764694668 0.0359470908657\n",
      "16 0.417811097873 0.429255681622 0.0690800627512 0.0334580121855\n",
      "17 0.409949286477 0.434929618498 0.0707029083297 0.0311486583667\n",
      "18 0.402618186625 0.440157965328 0.0722420347127 0.0290013238532\n",
      "19 0.395783152948 0.444976547087 0.0737045714428 0.0270034565051\n",
      "20 0.389409404226 0.449416291378 0.0750925782593 0.0251448132648\n",
      "21 0.383465783887 0.453506804443 0.0764103217455 0.0234154741375\n",
      "22 0.377922708613 0.457274934744 0.0776607938593 0.0218064158074\n",
      "23 0.372752919976 0.460745717983 0.0788473866342 0.0203091616396\n",
      "24 0.36793090902 0.463942161486 0.0799730958146 0.0189158797326\n",
      "25 0.363432992035 0.466885566996 0.0810409088655 0.0176192712377\n",
      "26 0.359237088327 0.46959557891 0.0820536253882 0.0164125638398\n",
      "27 0.355322653912 0.472090348827 0.0830139495709 0.0152894591448\n",
      "28 0.351670552648 0.474386630219 0.0839244522403 0.0142441061556\n",
      "29 0.348262968654 0.476499893521 0.0847875953628 0.0132710659529\n",
      "30 0.345083309439 0.478444419338 0.0856057265476 0.0123652840339\n",
      "31 0.342116123247 0.480233390952 0.0863810878425 0.0115220621737\n",
      "32 0.339347018647 0.481878976822 0.0871158175783 0.0107370334799\n",
      "33 0.336762591474 0.4833924083 0.0878119554313 0.0100061386669\n",
      "34 0.334350356075 0.484784050793 0.0884714458188 0.00932560429808\n",
      "35 0.33209868176 0.486063469874 0.0890961419601 0.00869192245438\n",
      "36 0.329996733526 0.487239492236 0.0896878094774 0.00810215825911\n",
      "37 0.328034417007 0.488320262119 0.0902481300715 0.00755468906059\n",
      "38 0.326202327238 0.489313293423 0.0907787050101 0.00704468761733\n",
      "39 0.324491701022 0.490225517898 0.091281058552 0.00656955978116\n",
      "40 0.322894372607 0.491063329671 0.0917566412459 0.00612692134498\n",
      "41 0.321402732464 0.491832626408 0.0922068331326 0.00571535910635\n",
      "42 0.320009688943 0.492538847349 0.0926329468348 0.00533180971491\n",
      "43 0.318708632595 0.493187008455 0.0930362305441 0.00497434321404\n",
      "44 0.317493402981 0.493781734893 0.0934178709009 0.00464116406825\n",
      "45 0.316358257791 0.494327291048 0.0937789957708 0.00433060171086\n",
      "46 0.315297844112 0.494827608256 0.0941206769176 0.00404110176168\n",
      "47 0.314307171689 0.495286310427 0.0944439325756 0.00377121786722\n",
      "48 0.313381588047 0.49570673772 0.0947497299224 0.00351960411865\n",
      "49 0.312516755338 0.496091968407 0.095038987455 0.0032850080066\n",
      "50 0.311708628787 0.496444839083 0.0953125772701 0.00306697667971\n",
      "51 0.310953436643 0.496767963327 0.0955713272532 0.00286459576439\n",
      "52 0.310247661511 0.497063748936 0.0958160231761 0.00267575930228\n",
      "53 0.309588022973 0.497334413854 0.0960474107081 0.00249954856657\n",
      "54 0.308971461414 0.497582000871 0.0962661973417 0.00233510792806\n",
      "55 0.30839512297 0.497808391208 0.0964730542354 0.00218164047267\n",
      "56 0.3078563455 0.498015317053 0.096668617978 0.00203840392641\n",
      "57 0.307352645545 0.498204373148 0.0968534922746 0.00190470686603\n",
      "58 0.306881706168 0.498377027476 0.0970282495589 0.00177990519504\n",
      "59 0.30644136564 0.498534631136 0.0971934325329 0.00166339886657\n",
      "60 0.306029606907 0.498678427458 0.0973495556379 0.00155462883546\n",
      "61 0.305644547771 0.498809560415 0.0974971064588 0.00145307422338\n",
      "62 0.305284431754 0.498929082391 0.0976365470636 0.00135824968212\n",
      "63 0.304947619586 0.499037961347 0.0977683152817 0.00126970294095\n",
      "64 0.304632581278 0.499137087445 0.0978928259225 0.00118708325214\n",
      "65 0.304337888735 0.499227279144 0.0980104719369 0.0011102385858\n",
      "66 0.304062208874 0.499309288843 0.098121625525 0.00103854233743\n",
      "67 0.303804297221 0.499383808075 0.09822663919 0.000971543388424\n",
      "68 0.303562991934 0.499451472307 0.0983258467429 0.000908929546193\n",
      "69 0.303337208243 0.499512865366 0.0984195642584 0.000850409655794\n",
      "70 0.303125933265 0.49956852352 0.0985080909852 0.000795712163798\n",
      "71 0.302928221171 0.499618939242 0.098591710212 0.000744583781337\n",
      "72 0.302743188687 0.49966456469 0.098670690091 0.000696788239437\n",
      "73 0.302570010899 0.499705814903 0.0987452844217 0.000652105130201\n",
      "74 0.302407917339 0.499743070758 0.0988157333954 0.000610328827844\n",
      "75 0.302256188341 0.499776681696 0.0988822643036 0.000571267484038\n",
      "76 0.302114151649 0.499806968226 0.0989450922111 0.000534837014525\n",
      "77 0.30198117924 0.499834224248 0.0990044205949 0.000500782340077\n",
      "78 0.301856684379 0.49985871918 0.0990604419524 0.00046892691846\n",
      "79 0.301740118865 0.499880699929 0.0991133383774 0.000439126655838\n",
      "80 0.30163097046 0.499900392701 0.0991632821089 0.00041124703556\n",
      "81 0.301528760498 0.499918004672 0.0992104360506 0.000385162472755\n",
      "82 0.301433041654 0.499933725524 0.0992549542649 0.000360805163136\n",
      "83 0.301343395862 0.499947728866 0.0992969824411 0.000338034517385\n",
      "84 0.301259432373 0.499960173536 0.0993366583408 0.000316720830952\n",
      "85 0.301180785941 0.499971204806 0.0993741122187 0.000296780838713\n",
      "86 0.301107115142 0.499980955489 0.0994094672237 0.000278158966599\n",
      "87 0.301038100789 0.499989546954 0.0994428397777 0.000260721300029\n",
      "88 0.30097344447 0.499997090072 0.0994743399358 0.000244391463585\n",
      "89 0.300912867172 0.500003686072 0.0995040717274 0.000229101535642\n",
      "90 0.300856108002 0.500009427342 0.0995321334799 0.000214793177878\n",
      "91 0.300802922994 0.500014398156 0.099558618125 0.000201390179726\n",
      "92 0.300753083994 0.500018675351 0.0995836134892 0.000188859557409\n",
      "93 0.300706377623 0.500022328942 0.0996072025698 0.000177162072248\n",
      "94 0.300662604301 0.500025422694 0.0996294637948 0.000166254292266\n",
      "95 0.300621577347 0.500028014647 0.0996504712712 0.000156055434799\n",
      "96 0.300583122129 0.500030157593 0.0996702950181 0.000146489333439\n",
      "97 0.300547075278 0.500031899521 0.0996890011891 0.000137516237385\n",
      "98 0.30051328395 0.500033284023 0.0997066522822 0.00012909892692\n",
      "99 0.300481605137 0.50003435067 0.0997233073383 0.000121202549945\n",
      "100 0.300451905028 0.500035135352 0.09973902213 0.00011380387431\n",
      "101 0.300424058403 0.500035670593 0.0997538493397 0.000106893555171\n",
      "102 0.30039794808 0.500035985844 0.0997678387279 0.00010041258037\n",
      "----------------------------------------\n",
      "103 0.30039794808 0.500035985844 0.0997678387279 0.00193401846726\n"
     ]
    }
   ],
   "source": [
    "### 업데이트의 양을 지정해 주는 것이 아니다. 패러다임을 다르게 생각해야.\n",
    "### w1, w2간 변화율이 다르다, 즉 각각의 계수가 x1, x2와 관련이 있다는 것을 알려주어야 한다.\n",
    "\n",
    "num_epoch = 10000\n",
    "w1 = np.random.uniform(low=0.0, high=1.0)\n",
    "w2 = np.random.uniform(low=0.0, high=1.0)\n",
    "b = np.random.uniform(low=0.0, high=1.0) \n",
    "\n",
    "for epoch in range(num_epoch):\n",
    "    y_predict = w1 * x1 + w2 * x2 + b\n",
    "    error = np.abs(y_predict - y).mean()\n",
    "    if error < 0.0001:\n",
    "        break\n",
    "        \n",
    "    # w1 = w1 - (y_predict-y).mean()\n",
    "    # w2 = w2 - (y_predict-y).mean()\n",
    "    ## 이렇게 하면, w1과 w2의 변화율이 똑같기 때문에 정상적으로 작동하지 않는다.\n",
    "    \n",
    "    w1 = w1 - ((y_predict-y)*x1).mean()\n",
    "    w2 = w2 - ((y_predict-y)*x2).mean()\n",
    "    b = b - (y_predict - y).mean()\n",
    "    print(epoch, w1, w2, b, error)\n",
    "    \n",
    "print(\"----\"*10)    \n",
    "print(epoch, w1, w2, b, current_error)"
   ]
  },
  {
   "cell_type": "code",
   "execution_count": 59,
   "metadata": {},
   "outputs": [
    {
     "name": "stdout",
     "output_type": "stream",
     "text": [
      "0 -0.147263810284 0.434262041217 -0.161214345575 0.839908217443\n",
      "1 0.182758641856 0.692358397159 0.408971691015 0.518350942355\n",
      "2 0.00424340050097 0.516094967343 0.0426232830968 0.333044007199\n",
      "3 0.142611894186 0.613560886825 0.264177877093 0.201413267269\n",
      "4 0.0803175294561 0.540533197345 0.117488884073 0.133353630018\n",
      "5 0.142103057366 0.575521302349 0.202217317769 0.0824922888781\n",
      "6 0.124422380611 0.543750585091 0.142233418191 0.0591033830318\n",
      "7 0.155058978064 0.554751392101 0.173418430839 0.0480281497501\n",
      "8 0.153979613897 0.539747377083 0.147805696836 0.038202623704\n",
      "9 0.171484023355 0.541801852842 0.15817674279 0.0362519256141\n",
      "10 0.176120278611 0.533839323426 0.14631865251 0.0319328428574\n",
      "11 0.187703454617 0.532780647969 0.148722403311 0.0302654603251\n",
      "12 0.193887730297 0.527957726605 0.14248242348 0.0274688914612\n",
      "13 0.202492311348 0.526010890183 0.141947317988 0.0257831658346\n",
      "14 0.208683411244 0.522729141777 0.138101112931 0.0236997889603\n",
      "15 0.215557918118 0.520711395786 0.136582887237 0.0221242253924\n",
      "16 0.221233843431 0.518289120333 0.13384105899 0.0204453524745\n",
      "17 0.226947467397 0.516473667614 0.132089212081 0.0190263551846\n",
      "18 0.231975195092 0.514598665116 0.129925854258 0.0176249790308\n",
      "19 0.236818842234 0.51305281473 0.12821759967 0.0163797840343\n",
      "20 0.241208128993 0.511565657026 0.126409234105 0.0151914900954\n",
      "21 0.24535376539 0.510282507032 0.124837978556 0.0141109168386\n",
      "22 0.249161767213 0.509090058762 0.123281961075 0.0131007761307\n",
      "23 0.252726456448 0.508039176007 0.121870570341 0.012171568457\n",
      "24 0.256021462287 0.507079550885 0.120513454379 0.0113067382719\n",
      "25 0.259093715274 0.506225968841 0.119258617048 0.010505810836\n",
      "26 0.261941953041 0.505453886147 0.118067792185 0.00976146359614\n",
      "27 0.264593084966 0.504764792942 0.116957298961 0.00907123352039\n",
      "28 0.267054448696 0.504145098986 0.11590967134 0.00843013195292\n",
      "29 0.269343895092 0.503591811434 0.114929057954 0.00783523736597\n",
      "30 0.271471049177 0.503096330397 0.114006451497 0.00728277862562\n",
      "31 0.273449183456 0.502654521273 0.113141473753 0.00676993090229\n",
      "32 0.275287882361 0.50226031426 0.112328690547 0.00629460493386\n",
      "33 0.276997746076 0.501909642654 0.111566174474 0.00585368101287\n",
      "34 0.27858753566 0.501597903267 0.110850115091 0.00544407155288\n",
      "35 0.280066051835 0.501321485713 0.110178181111 0.00506353887835\n",
      "36 0.281441038287 0.501076755202 0.109547394409 0.00470997723106\n",
      "37 0.282719945106 0.500860637491 0.108955447142 0.00438150964268\n",
      "38 0.283909519944 0.500670203558 0.108399860278 0.00407716968758\n",
      "39 0.285016129224 0.500502885838 0.10787849684 0.003794262361\n",
      "40 0.286045616676 0.500356302191 0.107389226299 0.00353125664832\n",
      "41 0.287003447609 0.500228329408 0.106930122133 0.00328741519442\n",
      "42 0.287894669866 0.500117023417 0.106499325715 0.00306068726683\n",
      "43 0.288723985958 0.500020638583 0.106095120175 0.00284980663638\n",
      "44 0.289495751948 0.499937587537 0.105715873221 0.00265372120117\n",
      "45 0.290214019025 0.499866440768 0.105360062768 0.00247143788689\n",
      "46 0.290882545293 0.499805903514 0.105026251213 0.00230183983875\n",
      "47 0.29150482346 0.499754808953 0.104713092476 0.00214458544691\n",
      "48 0.292084095973 0.499712103041 0.104419319016 0.00199901961573\n",
      "49 0.292623375643 0.499676836304 0.104143741897 0.00186397379335\n",
      "50 0.293125460617 0.499648152841 0.103885243138 0.00173825970457\n",
      "51 0.293592950856 0.499625282505 0.103642773345 0.00162112008507\n",
      "52 0.294028261772 0.499607532396 0.103415346443 0.00151196278065\n",
      "53 0.294433637898 0.499594279983 0.103202036628 0.00141023709157\n",
      "54 0.294811164911 0.499584966297 0.103001974289 0.00131566118333\n",
      "55 0.295162781192 0.499579090073 0.102814342932 0.00122779749759\n",
      "56 0.295490288283 0.499576202207 0.102638375805 0.00114604484643\n",
      "57 0.295795360743 0.499575900844 0.102473353022 0.00106988908361\n",
      "58 0.296079555198 0.499577826832 0.102318598668 0.000998840644369\n",
      "59 0.29634431878 0.499581659634 0.10217347819 0.000932553388829\n",
      "60 0.296590996934 0.499587113582 0.102037395876 0.000870704914439\n",
      "61 0.296820840668 0.499593934498 0.101909792525 0.000812994906885\n",
      "62 0.297035013275 0.499601896602 0.101790143222 0.00075914360731\n",
      "63 0.297234596573 0.499610799722 0.101677955271 0.000708890387269\n",
      "64 0.297420596693 0.499620466752 0.101572766236 0.000661992423904\n",
      "65 0.297593949444 0.499630741348 0.101474142108 0.000618223468076\n",
      "66 0.297755525305 0.499641485839 0.101381675573 0.000577372698916\n",
      "67 0.297906134047 0.499652579329 0.10129498439 0.000539243658601\n",
      "68 0.298046529024 0.499663915986 0.101213709863 0.000503653261672\n",
      "69 0.298177411163 0.499675403483 0.10113751541 0.000470452668805\n",
      "70 0.29829943266 0.499686961591 0.101066085206 0.000439515185208\n",
      "71 0.298413200418 0.499698520906 0.100999122923 0.000410637555271\n",
      "72 0.298519279235 0.499710021694 0.100936350533 0.000383704733052\n",
      "73 0.298618194762 0.499721412857 0.100877507192 0.000358550654406\n",
      "74 0.29871043626 0.499732650985 0.100822348185 0.000335056879853\n",
      "75 0.298796459149 0.499743699511 0.100770643939 0.000313112931594\n",
      "76 0.298876687381 0.499754527945 0.100722179096 0.000292626565866\n",
      "77 0.298951515647 0.499765111181 0.100676751636 0.000273526472824\n",
      "78 0.299021311421 0.49977542888 0.100634172061 0.000255688370248\n",
      "79 0.29908641686 0.499785464908 0.100594262628 0.000239078795471\n",
      "80 0.299147150578 0.499795206829 0.100556856617 0.000223566222195\n",
      "81 0.29920380928 0.49980464546 0.100521797662 0.000209064951454\n",
      "82 0.299256669295 0.499813774461 0.100488939108 0.000195508674935\n",
      "83 0.299305987988 0.49982258997 0.100458143413 0.000182835461937\n",
      "84 0.299352005083 0.49983109028 0.100429281587 0.000170987468012\n",
      "85 0.299394943885 0.499839275547 0.100402232663 0.000159910663176\n",
      "86 0.29943501242 0.499847147527 0.100376883202 0.000149554578377\n",
      "87 0.299472404494 0.499854709347 0.100353126826 0.00013987206896\n",
      "88 0.299507300677 0.499861965295 0.100330863786 0.000130820928564\n",
      "89 0.299539869218 0.499868920637 0.100310000546 0.000122363254524\n",
      "90 0.299570266899 0.499875581455 0.100290449403 0.000114454525825\n",
      "91 0.299598639822 0.499881954499 0.100272128122 0.000107058941793\n",
      "92 0.299625124147 0.499888047061 0.100254959599 0.000100143050178\n",
      "----------------------------------------\n",
      "93 0.299625124147 0.499888047061 0.100254959599 0.00193401846726\n"
     ]
    }
   ],
   "source": [
    "### learning rate\n",
    "\n",
    "num_epoch = 10000\n",
    "\n",
    "w1 = np.random.uniform(low=0.0, high=1.0)\n",
    "w2 = np.random.uniform(low=0.0, high=1.0)\n",
    "b = np.random.uniform(low=0.0, high=1.0) \n",
    "\n",
    "learning_rate = 1.1\n",
    "\n",
    "for epoch in range(num_epoch):\n",
    "    y_predict = w1 * x1 + w2 * x2 + b\n",
    "    error = np.abs(y_predict - y).mean()\n",
    "    if error < 0.0001:\n",
    "        break\n",
    "        \n",
    "    # w1 = w1 - (y_predict-y).mean()\n",
    "    # w2 = w2 - (y_predict-y).mean()\n",
    "    ## 이렇게 하면, w1과 w2의 변화율이 똑같기 때문에 정상적으로 작동하지 않는다.\n",
    "    \n",
    "    w1 = w1 - learning_rate * ((y_predict-y)*x1).mean()\n",
    "    w2 = w2 - learning_rate * ((y_predict-y)*x2).mean()\n",
    "    b = b - learning_rate * (y_predict - y).mean()\n",
    "    print(epoch, w1, w2, b, error)\n",
    "    \n",
    "print(\"----\"*10)    \n",
    "print(epoch, w1, w2, b, current_error)"
   ]
  },
  {
   "cell_type": "code",
   "execution_count": 70,
   "metadata": {},
   "outputs": [
    {
     "name": "stdout",
     "output_type": "stream",
     "text": [
      "[1 0 0 0 1 0 0 0 1 0 0 0 1 0 0 1 0 0 0 0 1 0 0 1 0 0 1 0 0 1 0 1 1 0 0 0 0\n",
      " 0 0 0 0 1 1 0 0 0 0 0 0 0 1 0 1 0 1 1 0 0 0 0 0 0 0 0 0 0 1 0 0 0 0 0 0 1\n",
      " 0 0 0 0 0 0 0 0 0 0 0 0 0 0 0 1 0 0 0 0 1 1 0 0 1 0]\n"
     ]
    },
    {
     "data": {
      "text/plain": [
       "<matplotlib.collections.PathCollection at 0x1f60191b7b8>"
      ]
     },
     "execution_count": 70,
     "metadata": {},
     "output_type": "execute_result"
    },
    {
     "data": {
      "image/png": "[encoded data removed]",
      "text/plain": [
       "<matplotlib.figure.Figure at 0x1f6018689e8>"
      ]
     },
     "metadata": {},
     "output_type": "display_data"
    }
   ],
   "source": [
    "y = 0.3 * x1 + 0.5 * x2\n",
    "y = (y>0.5).astype('int')\n",
    "\n",
    "print (y)\n",
    "plt.scatter(x1, x2, c=y)"
   ]
  },
  {
   "cell_type": "markdown",
   "metadata": {},
   "source": [
    "### Define Sigmoid"
   ]
  },
  {
   "cell_type": "code",
   "execution_count": 71,
   "metadata": {
    "scrolled": true
   },
   "outputs": [
    {
     "data": {
      "text/plain": [
       "[<matplotlib.lines.Line2D at 0x1f60197a278>]"
      ]
     },
     "execution_count": 71,
     "metadata": {},
     "output_type": "execute_result"
    },
    {
     "data": {
      "image/png": "[encoded data removed]",
      "text/plain": [
       "<matplotlib.figure.Figure at 0x1f6018f77f0>"
      ]
     },
     "metadata": {},
     "output_type": "display_data"
    }
   ],
   "source": [
    "def sigmoid (n):\n",
    "    return 1 / (1+np.exp(-n))\n",
    "\n",
    "xx = np.linspace(start=-9, stop=9)\n",
    "yy = sigmoid(xx)\n",
    "\n",
    "plt.plot(xx, yy)"
   ]
  },
  {
   "cell_type": "code",
   "execution_count": 84,
   "metadata": {},
   "outputs": [
    {
     "name": "stdout",
     "output_type": "stream",
     "text": [
      "0 0.77\n",
      "10 0.05\n",
      "----------------------------------------\n",
      "11 0.03\n"
     ]
    }
   ],
   "source": [
    "### learning rate\n",
    "### Binary cross entropy 적용; 코드는 거의 그대로 사용 가능하다.\n",
    "\n",
    "num_epoch = 10000\n",
    "\n",
    "w1 = np.random.uniform(low=0.0, high=1.0)\n",
    "w2 = np.random.uniform(low=0.0, high=1.0)\n",
    "b = np.random.uniform(low=0.0, high=1.0) \n",
    "\n",
    "learning_rate = 1\n",
    "\n",
    "for epoch in range(num_epoch):\n",
    "    y_predict = sigmoid(w1 * x1 + w2 * x2 + b)\n",
    "    y_predict = (y_predict > 0.5).astype('int')\n",
    "    error = (y_predict !=y).mean()\n",
    "    \n",
    "    if error < 0.05:\n",
    "        break\n",
    "    \n",
    "    if epoch % 10 == 0:\n",
    "        print (epoch, error)\n",
    "    \n",
    "    \n",
    "    # w1 = w1 - (y_predict-y).mean()\n",
    "    # w2 = w2 - (y_predict-y).mean()\n",
    "    ## 이렇게 하면, w1과 w2의 변화율이 똑같기 때문에 정상적으로 작동하지 않는다.\n",
    "    \n",
    "    w1 = w1 - learning_rate * ((y_predict-y)*x1).mean()\n",
    "    w2 = w2 - learning_rate * ((y_predict-y)*x2).mean()\n",
    "    b = b - learning_rate * (y_predict - y).mean()\n",
    "\n",
    "    \n",
    "print(\"----\"*10)\n",
    "print(epoch, error)"
   ]
  },
  {
   "cell_type": "code",
   "execution_count": 82,
   "metadata": {},
   "outputs": [
    {
     "data": {
      "text/html": [
       "<div>\n",
       "<style>\n",
       "    .dataframe thead tr:only-child th {\n",
       "        text-align: right;\n",
       "    }\n",
       "\n",
       "    .dataframe thead th {\n",
       "        text-align: left;\n",
       "    }\n",
       "\n",
       "    .dataframe tbody tr th {\n",
       "        vertical-align: top;\n",
       "    }\n",
       "</style>\n",
       "<table border=\"1\" class=\"dataframe\">\n",
       "  <thead>\n",
       "    <tr style=\"text-align: right;\">\n",
       "      <th></th>\n",
       "      <th>x1</th>\n",
       "      <th>x2</th>\n",
       "      <th>y(actual)</th>\n",
       "      <th>y(predict)</th>\n",
       "    </tr>\n",
       "  </thead>\n",
       "  <tbody>\n",
       "    <tr>\n",
       "      <th>0</th>\n",
       "      <td>0.924108</td>\n",
       "      <td>0.911474</td>\n",
       "      <td>1</td>\n",
       "      <td>1</td>\n",
       "    </tr>\n",
       "    <tr>\n",
       "      <th>1</th>\n",
       "      <td>0.108394</td>\n",
       "      <td>0.397362</td>\n",
       "      <td>0</td>\n",
       "      <td>0</td>\n",
       "    </tr>\n",
       "    <tr>\n",
       "      <th>2</th>\n",
       "      <td>0.348193</td>\n",
       "      <td>0.258439</td>\n",
       "      <td>0</td>\n",
       "      <td>0</td>\n",
       "    </tr>\n",
       "    <tr>\n",
       "      <th>3</th>\n",
       "      <td>0.884086</td>\n",
       "      <td>0.073352</td>\n",
       "      <td>0</td>\n",
       "      <td>0</td>\n",
       "    </tr>\n",
       "    <tr>\n",
       "      <th>4</th>\n",
       "      <td>0.999808</td>\n",
       "      <td>0.490243</td>\n",
       "      <td>1</td>\n",
       "      <td>1</td>\n",
       "    </tr>\n",
       "    <tr>\n",
       "      <th>5</th>\n",
       "      <td>0.611312</td>\n",
       "      <td>0.284591</td>\n",
       "      <td>0</td>\n",
       "      <td>0</td>\n",
       "    </tr>\n",
       "    <tr>\n",
       "      <th>6</th>\n",
       "      <td>0.422441</td>\n",
       "      <td>0.420998</td>\n",
       "      <td>0</td>\n",
       "      <td>0</td>\n",
       "    </tr>\n",
       "    <tr>\n",
       "      <th>7</th>\n",
       "      <td>0.336359</td>\n",
       "      <td>0.308431</td>\n",
       "      <td>0</td>\n",
       "      <td>0</td>\n",
       "    </tr>\n",
       "    <tr>\n",
       "      <th>8</th>\n",
       "      <td>0.913321</td>\n",
       "      <td>0.756004</td>\n",
       "      <td>1</td>\n",
       "      <td>1</td>\n",
       "    </tr>\n",
       "    <tr>\n",
       "      <th>9</th>\n",
       "      <td>0.552423</td>\n",
       "      <td>0.106813</td>\n",
       "      <td>0</td>\n",
       "      <td>0</td>\n",
       "    </tr>\n",
       "  </tbody>\n",
       "</table>\n",
       "</div>"
      ],
      "text/plain": [
       "         x1        x2  y(actual)  y(predict)\n",
       "0  0.924108  0.911474          1           1\n",
       "1  0.108394  0.397362          0           0\n",
       "2  0.348193  0.258439          0           0\n",
       "3  0.884086  0.073352          0           0\n",
       "4  0.999808  0.490243          1           1\n",
       "5  0.611312  0.284591          0           0\n",
       "6  0.422441  0.420998          0           0\n",
       "7  0.336359  0.308431          0           0\n",
       "8  0.913321  0.756004          1           1\n",
       "9  0.552423  0.106813          0           0"
      ]
     },
     "execution_count": 82,
     "metadata": {},
     "output_type": "execute_result"
    }
   ],
   "source": [
    "import pandas as pd\n",
    "\n",
    "result = pd.DataFrame({'x1':x1, 'x2':x2, 'y(actual)':y, 'y(predict)':y_predict})\n",
    "result.head(10)"
   ]
  },
  {
   "cell_type": "code",
   "execution_count": null,
   "metadata": {
    "collapsed": true
   },
   "outputs": [],
   "source": []
  }
 ],
 "metadata": {
  "kernelspec": {
   "display_name": "Python 3",
   "language": "python",
   "name": "python3"
  },
  "language_info": {
   "codemirror_mode": {
    "name": "ipython",
    "version": 3
   },
   "file_extension": ".py",
   "mimetype": "text/x-python",
   "name": "python",
   "nbconvert_exporter": "python",
   "pygments_lexer": "ipython3",
   "version": "3.6.4"
  }
 },
 "nbformat": 4,
 "nbformat_minor": 2
}
