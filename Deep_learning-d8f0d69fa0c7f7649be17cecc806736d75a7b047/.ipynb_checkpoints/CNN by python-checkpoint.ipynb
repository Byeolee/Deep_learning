{
 "cells": [
  {
   "cell_type": "code",
   "execution_count": 1,
   "metadata": {
    "collapsed": true
   },
   "outputs": [],
   "source": [
    "import numpy as np"
   ]
  },
  {
   "cell_type": "markdown",
   "metadata": {},
   "source": [
    "## Load Dataset"
   ]
  },
  {
   "cell_type": "code",
   "execution_count": 2,
   "metadata": {
    "collapsed": true
   },
   "outputs": [],
   "source": [
    "from sklearn.datasets import load_digits\n",
    "\n",
    "mnist = load_digits()"
   ]
  },
  {
   "cell_type": "code",
   "execution_count": 3,
   "metadata": {},
   "outputs": [
    {
     "name": "stdout",
     "output_type": "stream",
     "text": [
      "(1797, 1, 8, 8)\n"
     ]
    }
   ],
   "source": [
    "X = mnist[\"data\"]\n",
    "X = X.reshape(1797, 1, 8, 8)\n",
    "\n",
    "print(X.shape)\n",
    "# X"
   ]
  },
  {
   "cell_type": "code",
   "execution_count": 4,
   "metadata": {},
   "outputs": [
    {
     "name": "stdout",
     "output_type": "stream",
     "text": [
      "(1797,)\n"
     ]
    },
    {
     "data": {
      "text/plain": [
       "array([0, 1, 2, ..., 8, 9, 8])"
      ]
     },
     "execution_count": 4,
     "metadata": {},
     "output_type": "execute_result"
    }
   ],
   "source": [
    "y = mnist[\"target\"]\n",
    "\n",
    "print(y.shape)\n",
    "y"
   ]
  },
  {
   "cell_type": "code",
   "execution_count": 5,
   "metadata": {},
   "outputs": [
    {
     "data": {
      "image/png": "[encoded data removed]",
      "text/plain": [
       "<matplotlib.figure.Figure at 0x113b21470>"
      ]
     },
     "metadata": {},
     "output_type": "display_data"
    }
   ],
   "source": [
    "%matplotlib inline\n",
    "import matplotlib.pyplot as plt\n",
    "\n",
    "figure, axes = plt.subplots(nrows=3, ncols=6)\n",
    "\n",
    "figure.set_size_inches(18, 12)\n",
    "\n",
    "for row in range(3):\n",
    "    for col in range(6):\n",
    "        index = col + row * 6\n",
    "        axes[row][col].matshow(X[index].reshape(8, 8))"
   ]
  },
  {
   "cell_type": "markdown",
   "metadata": {},
   "source": [
    "## Prerequisities"
   ]
  },
  {
   "cell_type": "code",
   "execution_count": 6,
   "metadata": {
    "collapsed": true
   },
   "outputs": [],
   "source": [
    "def conv_forward(x, w, b, conv_param):\n",
    "    \"\"\"\n",
    "    A naive implementation of the forward pass for a convolutional layer.\n",
    "    The input consists of N data points, each with C channels, height H and width\n",
    "    W. We convolve each input with F different filters, where each filter spans\n",
    "    all C channels and has height HH and width HH.\n",
    "    Input:\n",
    "    - x: Input data of shape (N, C, H, W)\n",
    "    - w: Filter weights of shape (F, C, HH, WW)\n",
    "    - b: Biases, of shape (F,)\n",
    "    - conv_param: A dictionary with the following keys:\n",
    "    - 'stride': The number of pixels between adjacent receptive fields in the\n",
    "      horizontal and vertical directions.\n",
    "    - 'pad': The number of pixels that will be used to zero-pad the input.\n",
    "    Returns a tuple of:\n",
    "    - out: Output data, of shape (N, F, H', W') where H' and W' are given by\n",
    "    H' = 1 + (H + 2 * pad - HH) / stride\n",
    "    W' = 1 + (W + 2 * pad - WW) / stride\n",
    "    - cache: (x, w, b, conv_param)\n",
    "    \"\"\"\n",
    "    out = None\n",
    "    #############################################################################\n",
    "    # TODO: Implement the convolutional forward pass.                           #\n",
    "    # Hint: you can use the function np.pad for padding.                        #\n",
    "    #############################################################################\n",
    "    N, C, H, W = x.shape\n",
    "    F, _, HH, WW = w.shape\n",
    "    stride = conv_param['stride']\n",
    "    pad = conv_param['pad']\n",
    "    H_out = 1 + (H + 2 * pad - HH) // stride\n",
    "    W_out = 1 + (W + 2 * pad - WW) // stride\n",
    "    out = np.zeros((N,F,H_out,W_out)) \n",
    "\n",
    "    # Pad the input \n",
    "    x_pad = np.zeros((N,C,H+2*pad,W+2*pad))\n",
    "    for n in range(N):\n",
    "        for c in range(C):\n",
    "            x_pad[n,c] = np.pad(x[n,c],(1,1),'constant', constant_values=(0,0))\n",
    "\n",
    "    for n in range(N):\n",
    "        for i in range(H_out):\n",
    "            for j in range(W_out):\n",
    "                for f in range(F):\n",
    "                    current_x_matrix = x_pad[n,:, i*stride: i*stride+HH, j*stride:j*stride+WW]\n",
    "                    current_filter = w[f] \n",
    "                    out[n,f,i,j] = np.sum(current_x_matrix*current_filter)\n",
    "                out[n,:,i,j] = out[n,:,i,j]+b\n",
    "\n",
    "    #############################################################################\n",
    "    #                             END OF YOUR CODE                              #\n",
    "    #############################################################################\n",
    "\n",
    "    cache = (x, w, b, conv_param)\n",
    "    return out, cache"
   ]
  },
  {
   "cell_type": "code",
   "execution_count": 7,
   "metadata": {
    "collapsed": true
   },
   "outputs": [],
   "source": [
    "def conv_backward(dout, cache):\n",
    "    \"\"\"\n",
    "    A naive implementation of the backward pass for a convolutional layer.\n",
    "    Inputs:\n",
    "    - dout: Upstream derivatives.\n",
    "    - cache: A tuple of (x, w, b, conv_param) as in conv_forward_naive\n",
    "    Returns a tuple of:\n",
    "    - dx: Gradient with respect to x\n",
    "    - dw: Gradient with respect to w\n",
    "    - db: Gradient with respect to b\n",
    "    \"\"\"\n",
    "    dx, dw, db = None, None, None\n",
    "    #############################################################################\n",
    "    # TODO: Implement the convolutional backward pass.                          #\n",
    "    #############################################################################\n",
    "    x, w, b, conv_param = cache\n",
    "    stride = conv_param['stride']\n",
    "    pad = conv_param['pad']\n",
    "    N, C, H, W = x.shape\n",
    "    F, _, HH, WW = w.shape\n",
    "    _,_,H_out,W_out = dout.shape\n",
    "\n",
    "    x_pad = np.zeros((N,C,H+2,W+2))\n",
    "    for n in range(N):\n",
    "        for c in range(C):\n",
    "            x_pad[n,c] = np.pad(x[n,c],(1,1),'constant', constant_values=(0,0))\n",
    "\n",
    "    db = np.zeros((F))\n",
    "    for n in range(N):\n",
    "        for i in range(H_out):\n",
    "            for j in range(W_out):\n",
    "                db = db + dout[n,:,i,j]\n",
    "\n",
    "    dw = np.zeros(w.shape) \n",
    "    dx_pad = np.zeros(x_pad.shape)\n",
    "\n",
    "    for n in range(N):\n",
    "        for f in range(F):\n",
    "            for i in range(H_out):\n",
    "                for j in range(W_out):\n",
    "                    current_x_matrix = x_pad[n,:, i*stride: i*stride+HH, j*stride:j*stride+WW]\n",
    "                    dw[f] = dw[f] + dout[n,f,i,j]* current_x_matrix\n",
    "                    dx_pad[n,:, i*stride: i*stride+HH, j*stride:j*stride+WW] += w[f]*dout[n,f,i,j]\n",
    "\n",
    "    dx = dx_pad[:,:,1:H+1,1:W+1]\n",
    "    #############################################################################\n",
    "    #                             END OF YOUR CODE                              #\n",
    "    #############################################################################\n",
    "    return dx, dw, db"
   ]
  },
  {
   "cell_type": "code",
   "execution_count": 8,
   "metadata": {
    "collapsed": true
   },
   "outputs": [],
   "source": [
    "def affine_forward(x, w, b):\n",
    "    \"\"\"\n",
    "    Computes the forward pass for an affine (fully-connected) layer.\n",
    "    The input x has shape (N, d_1, ..., d_k) and contains a minibatch of N\n",
    "    examples, where each example x[i] has shape (d_1, ..., d_k). We will\n",
    "    reshape each input into a vector of dimension D = d_1 * ... * d_k, and\n",
    "    then transform it to an output vector of dimension M.\n",
    "    Inputs:\n",
    "    - x: A numpy array containing input data, of shape (N, d_1, ..., d_k)\n",
    "    - w: A numpy array of weights, of shape (D, M)\n",
    "    - b: A numpy array of biases, of shape (M,)\n",
    "\n",
    "    Returns a tuple of:\n",
    "    - out: output, of shape (N, M)\n",
    "    - cache: (x, w, b)\n",
    "    \"\"\"\n",
    "    out = None\n",
    "    #############################################################################\n",
    "    # TODO: Implement the affine forward pass. Store the result in out. You     #\n",
    "    # will need to reshape the input into rows.                                 #\n",
    "    #############################################################################\n",
    "    N = x.shape[0]\n",
    "    x_temp = x.reshape(N,-1)\n",
    "    out = x_temp.dot(w) + b\n",
    "    #############################################################################\n",
    "    #                             END OF YOUR CODE                              #\n",
    "    #############################################################################\n",
    "    cache = (x, w, b)\n",
    "    return out, cache\n",
    "\n",
    "\n",
    "def affine_backward(dout, cache):\n",
    "    \"\"\"\n",
    "    Computes the backward pass for an affine layer.\n",
    "    Inputs:\n",
    "    - dout: Upstream derivative, of shape (N, M)\n",
    "    - cache: Tuple of:\n",
    "    - x: Input data, of shape (N, d_1, ... d_k)\n",
    "    - w: Weights, of shape (D, M)\n",
    "    Returns a tuple of:\n",
    "    - dx: Gradient with respect to x, of shape (N, d1, ..., d_k)\n",
    "    - dw: Gradient with respect to w, of shape (D, M)\n",
    "    - db: Gradient with respect to b, of shape (M,)\n",
    "    \"\"\"\n",
    "    x, w, b = cache\n",
    "    dx, dw, db = None, None, None\n",
    "    #############################################################################\n",
    "    # TODO: Implement the affine backward pass.                                 #\n",
    "    #############################################################################\n",
    "    db = np.sum(dout, axis = 0)\n",
    "    x_temp = x.reshape(x.shape[0],-1)\n",
    "    dw = x_temp.T.dot(dout)\n",
    "    dx = dout.dot(w.T).reshape(x.shape)\n",
    "    #############################################################################\n",
    "    #                             END OF YOUR CODE                              #\n",
    "    #############################################################################\n",
    "    return dx, dw, db\n",
    "\n"
   ]
  },
  {
   "cell_type": "code",
   "execution_count": 9,
   "metadata": {
    "collapsed": true
   },
   "outputs": [],
   "source": [
    "def relu_forward(x):\n",
    "    \"\"\"\n",
    "    Computes the forward pass for a layer of rectified linear units (ReLUs).\n",
    "    Input:\n",
    "    - x: Inputs, of any shape\n",
    "    Returns a tuple of:\n",
    "    - out: Output, of the same shape as x\n",
    "    - cache: x\n",
    "    \"\"\"\n",
    "    out = None\n",
    "    #############################################################################\n",
    "    # TODO: Implement the ReLU forward pass.                                    #\n",
    "    #############################################################################\n",
    "    out = np.copy(x)\n",
    "    out[out<0] = 0           \n",
    "    #############################################################################\n",
    "    #             END OF YOUR CODE                                              #\n",
    "    #############################################################################\n",
    "    cache = x\n",
    "    return out, cache\n",
    "\n",
    "\n",
    "def relu_backward(dout, cache):\n",
    "    \"\"\"\n",
    "    Computes the backward pass for a layer of rectified linear units (ReLUs).\n",
    "    Input:\n",
    "    - dout: Upstream derivatives, of any shape\n",
    "    - cache: Input x, of same shape as dout\n",
    "    Returns:\n",
    "    - dx: Gradient with respect to x\n",
    "    \"\"\"\n",
    "    dx, x = None, cache\n",
    "    #############################################################################\n",
    "    # TODO: Implement the ReLU backward pass.                                   #\n",
    "    #############################################################################\n",
    "    dx = np.copy(dout)\n",
    "    dx[x<0] = 0\n",
    "    #############################################################################\n",
    "    #                             END OF YOUR CODE                              #\n",
    "    #############################################################################\n",
    "    return dx\n"
   ]
  },
  {
   "cell_type": "code",
   "execution_count": 10,
   "metadata": {
    "collapsed": true
   },
   "outputs": [],
   "source": [
    "def softmax_loss(x, y):\n",
    "    \"\"\"\n",
    "    Computes the loss and gradient for softmax classification.\n",
    "    Inputs:\n",
    "    - x: Input data, of shape (N, C) where x[i, j] is the score for the jth class\n",
    "    for the ith input.\n",
    "    - y: Vector of labels, of shape (N,) where y[i] is the label for x[i] and\n",
    "    0 <= y[i] < C\n",
    "    Returns a tuple of:\n",
    "    - loss: Scalar giving the loss\n",
    "    - dx: Gradient of the loss with respect to x\n",
    "    \"\"\"\n",
    "    probs = np.exp(x - np.max(x, axis=1, keepdims=True))\n",
    "    probs /= np.sum(probs, axis=1, keepdims=True)\n",
    "    N = x.shape[0]\n",
    "    loss = -np.sum(np.log(probs[np.arange(N), y])) / N\n",
    "    dx = probs.copy()\n",
    "    dx[np.arange(N), y] -= 1\n",
    "    dx /= N\n",
    "    return loss, dx\n"
   ]
  },
  {
   "cell_type": "markdown",
   "metadata": {},
   "source": [
    "## Build a Model"
   ]
  },
  {
   "cell_type": "code",
   "execution_count": 11,
   "metadata": {},
   "outputs": [
    {
     "name": "stdout",
     "output_type": "stream",
     "text": [
      "  0 Accuracy = 0.097941\n",
      "  1 Accuracy = 0.129661\n",
      "  2 Accuracy = 0.190874\n",
      "  3 Accuracy = 0.234836\n",
      "  4 Accuracy = 0.279911\n",
      "  5 Accuracy = 0.340011\n",
      "  6 Accuracy = 0.394546\n",
      "  7 Accuracy = 0.449082\n",
      "  8 Accuracy = 0.478575\n",
      "  9 Accuracy = 0.508069\n",
      " 10 Accuracy = 0.542014\n",
      " 11 Accuracy = 0.564274\n",
      " 12 Accuracy = 0.587646\n",
      " 13 Accuracy = 0.627156\n",
      " 14 Accuracy = 0.678909\n",
      " 15 Accuracy = 0.739009\n",
      " 16 Accuracy = 0.794101\n",
      " 17 Accuracy = 0.831942\n",
      " 18 Accuracy = 0.841402\n",
      " 19 Accuracy = 0.864218\n",
      " 20 Accuracy = 0.874791\n",
      " 21 Accuracy = 0.882582\n",
      " 22 Accuracy = 0.815248\n",
      " 23 Accuracy = 0.208681\n",
      " 24 Accuracy = 0.736784\n",
      " 25 Accuracy = 0.309961\n",
      " 26 Accuracy = 0.397329\n",
      " 27 Accuracy = 0.510851\n",
      " 28 Accuracy = 0.614357\n",
      " 29 Accuracy = 0.691152\n",
      " 30 Accuracy = 0.765721\n",
      " 31 Accuracy = 0.800779\n",
      " 32 Accuracy = 0.811352\n",
      " 33 Accuracy = 0.818587\n",
      " 34 Accuracy = 0.835838\n",
      " 35 Accuracy = 0.881469\n",
      " 36 Accuracy = 0.828603\n",
      " 37 Accuracy = 0.437396\n",
      " 38 Accuracy = 0.818030\n",
      " 39 Accuracy = 0.712855\n",
      " 40 Accuracy = 0.776850\n",
      " 41 Accuracy = 0.825821\n",
      " 42 Accuracy = 0.840846\n",
      " 43 Accuracy = 0.901503\n",
      " 44 Accuracy = 0.912632\n",
      " 45 Accuracy = 0.914858\n",
      " 46 Accuracy = 0.915415\n",
      " 47 Accuracy = 0.915971\n",
      " 48 Accuracy = 0.909293\n",
      " 49 Accuracy = 0.845854\n",
      " 50 Accuracy = 0.770729\n",
      " 51 Accuracy = 0.836950\n",
      " 52 Accuracy = 0.855314\n",
      " 53 Accuracy = 0.920979\n",
      " 54 Accuracy = 0.933779\n",
      " 55 Accuracy = 0.937117\n",
      " 56 Accuracy = 0.935448\n",
      " 57 Accuracy = 0.943239\n",
      " 58 Accuracy = 0.938787\n",
      " 59 Accuracy = 0.944908\n",
      " 60 Accuracy = 0.942682\n",
      " 61 Accuracy = 0.946578\n",
      " 62 Accuracy = 0.940456\n",
      " 63 Accuracy = 0.938230\n",
      " 64 Accuracy = 0.925988\n",
      " 65 Accuracy = 0.910406\n",
      " 66 Accuracy = 0.890929\n",
      " 67 Accuracy = 0.869783\n",
      " 68 Accuracy = 0.903728\n",
      " 69 Accuracy = 0.906511\n",
      " 70 Accuracy = 0.928770\n",
      " 71 Accuracy = 0.934891\n",
      " 72 Accuracy = 0.943239\n",
      " 73 Accuracy = 0.951586\n",
      " 74 Accuracy = 0.951029\n",
      " 75 Accuracy = 0.954368\n",
      " 76 Accuracy = 0.954925\n",
      " 77 Accuracy = 0.957707\n",
      " 78 Accuracy = 0.956594\n",
      " 79 Accuracy = 0.958264\n",
      " 80 Accuracy = 0.957707\n",
      " 81 Accuracy = 0.957707\n",
      " 82 Accuracy = 0.957707\n",
      " 83 Accuracy = 0.958264\n",
      " 84 Accuracy = 0.957151\n",
      " 85 Accuracy = 0.956594\n",
      " 86 Accuracy = 0.955481\n",
      " 87 Accuracy = 0.954925\n",
      " 88 Accuracy = 0.950473\n",
      " 89 Accuracy = 0.946578\n",
      " 90 Accuracy = 0.947691\n",
      " 91 Accuracy = 0.943239\n",
      " 92 Accuracy = 0.943239\n",
      " 93 Accuracy = 0.939900\n",
      " 94 Accuracy = 0.943795\n",
      " 95 Accuracy = 0.943795\n",
      " 96 Accuracy = 0.949360\n",
      " 97 Accuracy = 0.947691\n",
      " 98 Accuracy = 0.956594\n",
      " 99 Accuracy = 0.959377\n"
     ]
    }
   ],
   "source": [
    "num_epoch = 100\n",
    "# num_epoch = 20\n",
    "# learning_rate = 1.0\n",
    "learning_rate = 0.03\n",
    "\n",
    "stride = 1\n",
    "pad = 1\n",
    "\n",
    "w1 = np.random.normal(0, 1e-3, (10, 1, 3, 3))\n",
    "w2 = np.random.normal(0, 1e-3, (640, 10))\n",
    "\n",
    "b1 = np.zeros(10)\n",
    "b2 = np.zeros(10)\n",
    "\n",
    "conv_param = {'stride': stride, 'pad': pad}\n",
    "pool_param = {'pool_height': 2, 'pool_width': 2, 'stride': 2}\n",
    "\n",
    "loss, grads = 0, {}\n",
    "\n",
    "for epoch in range(num_epoch):\n",
    "\n",
    "    conv_out, conv_cache = conv_forward(X, w1, b1, conv_param)\n",
    "    relu_out, relu_cache = relu_forward(conv_out)\n",
    "    affine_out, affine_cache = affine_forward(relu_out, w2, b2)\n",
    "\n",
    "    scores = affine_out\n",
    "\n",
    "    y_predict = np.argmax(scores, axis=1)\n",
    "    accuracy = (y == y_predict).mean()\n",
    "\n",
    "    print(f\"{epoch:3} Accuracy = {accuracy:.6f}\")\n",
    "\n",
    "    loss, dscores = softmax_loss(scores, y)\n",
    "\n",
    "    affine_dx, affine_dw, affine_db = affine_backward(dscores, affine_cache)\n",
    "    relu_dx = relu_backward(affine_dx, relu_cache)\n",
    "    conv_dx, conv_dw, conv_db = conv_backward(relu_dx, conv_cache)\n",
    "\n",
    "    w2 = w2 - learning_rate * affine_dw\n",
    "    w1 = w1 - learning_rate * conv_dw\n",
    "\n",
    "    b2 = b2 - learning_rate * affine_db\n",
    "    b1 = b1 - learning_rate * conv_db"
   ]
  },
  {
   "cell_type": "code",
   "execution_count": null,
   "metadata": {
    "collapsed": true
   },
   "outputs": [],
   "source": []
  }
 ],
 "metadata": {
  "kernelspec": {
   "display_name": "Python 3",
   "language": "python",
   "name": "python3"
  },
  "language_info": {
   "codemirror_mode": {
    "name": "ipython",
    "version": 3
   },
   "file_extension": ".py",
   "mimetype": "text/x-python",
   "name": "python",
   "nbconvert_exporter": "python",
   "pygments_lexer": "ipython3",
   "version": "3.6.4"
  }
 },
 "nbformat": 4,
 "nbformat_minor": 2
}
