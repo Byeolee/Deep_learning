{
 "cells": [
  {
   "cell_type": "code",
   "execution_count": 1,
   "metadata": {},
   "outputs": [],
   "source": [
    "%matplotlib inline\n",
    "import numpy as np\n",
    "import pandas as pd\n",
    "import matplotlib.pyplot as plt"
   ]
  },
  {
   "cell_type": "markdown",
   "metadata": {},
   "source": [
    "## Load Dataset"
   ]
  },
  {
   "cell_type": "code",
   "execution_count": 2,
   "metadata": {},
   "outputs": [],
   "source": [
    "from sklearn.datasets import load_digits\n",
    "\n",
    "digits = load_digits()"
   ]
  },
  {
   "cell_type": "code",
   "execution_count": 3,
   "metadata": {},
   "outputs": [
    {
     "name": "stdout",
     "output_type": "stream",
     "text": [
      "(1797, 64)\n"
     ]
    },
    {
     "data": {
      "text/plain": [
       "array([[ 0.,  0.,  5., ...,  0.,  0.,  0.],\n",
       "       [ 0.,  0.,  0., ..., 10.,  0.,  0.],\n",
       "       [ 0.,  0.,  0., ..., 16.,  9.,  0.],\n",
       "       ...,\n",
       "       [ 0.,  0.,  1., ...,  6.,  0.,  0.],\n",
       "       [ 0.,  0.,  2., ..., 12.,  0.,  0.],\n",
       "       [ 0.,  0., 10., ..., 12.,  1.,  0.]])"
      ]
     },
     "execution_count": 3,
     "metadata": {},
     "output_type": "execute_result"
    }
   ],
   "source": [
    "X = digits[\"data\"]\n",
    "\n",
    "print(X.shape)\n",
    "X"
   ]
  },
  {
   "cell_type": "markdown",
   "metadata": {},
   "source": [
    "### Visualize"
   ]
  },
  {
   "cell_type": "code",
   "execution_count": 4,
   "metadata": {},
   "outputs": [
    {
     "data": {
      "text/plain": [
       "<matplotlib.image.AxesImage at 0x1da2a03f2b0>"
      ]
     },
     "execution_count": 4,
     "metadata": {},
     "output_type": "execute_result"
    },
    {
     "data": {
      "text/plain": [
       "<matplotlib.figure.Figure at 0x1da28dad4e0>"
      ]
     },
     "metadata": {},
     "output_type": "display_data"
    },
    {
     "data": {
      "image/png": "[encoded data removed]",
      "text/plain": [
       "<matplotlib.figure.Figure at 0x1da267f99b0>"
      ]
     },
     "metadata": {},
     "output_type": "display_data"
    }
   ],
   "source": [
    "%matplotlib inline\n",
    "import matplotlib.pyplot as plt\n",
    "\n",
    "plt.gray()\n",
    "\n",
    "figure, axes = plt.subplots(nrows=2, ncols=5)\n",
    "figure.set_size_inches(18, 8)\n",
    "\n",
    "axes[0][0].matshow(X[0].reshape(8, 8))\n",
    "axes[0][1].matshow(X[1].reshape(8, 8))\n",
    "axes[0][2].matshow(X[2].reshape(8, 8))\n",
    "axes[0][3].matshow(X[3].reshape(8, 8))\n",
    "axes[0][4].matshow(X[4].reshape(8, 8))\n",
    "axes[1][0].matshow(X[5].reshape(8, 8))\n",
    "axes[1][1].matshow(X[6].reshape(8, 8))\n",
    "axes[1][2].matshow(X[7].reshape(8, 8))\n",
    "axes[1][3].matshow(X[8].reshape(8, 8))\n",
    "axes[1][4].matshow(X[9].reshape(8, 8))"
   ]
  },
  {
   "cell_type": "code",
   "execution_count": 5,
   "metadata": {},
   "outputs": [
    {
     "name": "stdout",
     "output_type": "stream",
     "text": [
      "(1797,)\n"
     ]
    },
    {
     "data": {
      "text/plain": [
       "array([0, 1, 2, ..., 8, 9, 8])"
      ]
     },
     "execution_count": 5,
     "metadata": {},
     "output_type": "execute_result"
    }
   ],
   "source": [
    "y = digits[\"target\"]\n",
    "\n",
    "print(y.shape)\n",
    "y"
   ]
  },
  {
   "cell_type": "markdown",
   "metadata": {},
   "source": [
    "## Preprocessing"
   ]
  },
  {
   "cell_type": "code",
   "execution_count": 6,
   "metadata": {},
   "outputs": [
    {
     "data": {
      "text/plain": [
       "(8.995463126623417e-17, -4.884164579855314, 11.115835420144686)"
      ]
     },
     "execution_count": 6,
     "metadata": {},
     "output_type": "execute_result"
    }
   ],
   "source": [
    "X_mean = X.mean()\n",
    "\n",
    "X = X - X_mean\n",
    "\n",
    "X.mean(), X.min(), X.max()"
   ]
  },
  {
   "cell_type": "code",
   "execution_count": 7,
   "metadata": {},
   "outputs": [
    {
     "name": "stderr",
     "output_type": "stream",
     "text": [
      "C:\\Users\\BKLEE\\AppData\\Local\\Continuum\\anaconda3\\lib\\site-packages\\h5py\\__init__.py:36: FutureWarning: Conversion of the second argument of issubdtype from `float` to `np.floating` is deprecated. In future, it will be treated as `np.float64 == np.dtype(float).type`.\n",
      "  from ._conv import register_converters as _register_converters\n",
      "Using TensorFlow backend.\n"
     ]
    },
    {
     "name": "stdout",
     "output_type": "stream",
     "text": [
      "(1797,) (1797, 10)\n"
     ]
    }
   ],
   "source": [
    "from keras.utils import to_categorical\n",
    "\n",
    "y_hot = to_categorical(y)\n",
    "\n",
    "print(y.shape, y_hot.shape)"
   ]
  },
  {
   "cell_type": "markdown",
   "metadata": {},
   "source": [
    "## Define Activation"
   ]
  },
  {
   "cell_type": "markdown",
   "metadata": {},
   "source": [
    "### Sigmoid"
   ]
  },
  {
   "cell_type": "code",
   "execution_count": 8,
   "metadata": {},
   "outputs": [
    {
     "data": {
      "text/plain": [
       "[<matplotlib.lines.Line2D at 0x1da2d5292b0>]"
      ]
     },
     "execution_count": 8,
     "metadata": {},
     "output_type": "execute_result"
    },
    {
     "data": {
      "image/png": "[encoded data removed]",
      "text/plain": [
       "<matplotlib.figure.Figure at 0x1da2d4ddf98>"
      ]
     },
     "metadata": {},
     "output_type": "display_data"
    }
   ],
   "source": [
    "def sigmoid(n):\n",
    "    return 1 / (1 + np.exp(-n))\n",
    "\n",
    "xx = np.linspace(start=-9, stop=+9)\n",
    "yy = sigmoid(xx)\n",
    "\n",
    "plt.plot(xx, yy)"
   ]
  },
  {
   "cell_type": "code",
   "execution_count": 9,
   "metadata": {},
   "outputs": [
    {
     "data": {
      "text/plain": [
       "[<matplotlib.lines.Line2D at 0x1da2d590ac8>]"
      ]
     },
     "execution_count": 9,
     "metadata": {},
     "output_type": "execute_result"
    },
    {
     "data": {
      "image/png": "[encoded data removed]",
      "text/plain": [
       "<matplotlib.figure.Figure at 0x1da2d4dd748>"
      ]
     },
     "metadata": {},
     "output_type": "display_data"
    }
   ],
   "source": [
    "def sigmoid_derivative(n):\n",
    "    return sigmoid(n) * (1 - sigmoid(n))\n",
    "\n",
    "xx = np.linspace(start=-9, stop=+9)\n",
    "yy = sigmoid_derivative(xx)\n",
    "\n",
    "plt.plot(xx, yy)"
   ]
  },
  {
   "cell_type": "markdown",
   "metadata": {},
   "source": [
    "## Build a Model"
   ]
  },
  {
   "cell_type": "code",
   "execution_count": 10,
   "metadata": {},
   "outputs": [],
   "source": [
    "from time import time\n",
    "\n",
    "def train(X, y, num_epoch, learning_rate, update_method):\n",
    "    errors = []\n",
    "\n",
    "    start = time()\n",
    "\n",
    "    w1 = np.random.uniform(low=-np.sqrt(6 / (64+100)),\n",
    "                           high=+np.sqrt(6 / (64+100)),\n",
    "                           size=(64, 100))\n",
    "\n",
    "    w2 = np.random.uniform(low=-np.sqrt(6 / (100+10)),\n",
    "                           high=+np.sqrt(6 / (100+10)),\n",
    "                           size=(100, 10))\n",
    "\n",
    "    for epoch in range(num_epoch):\n",
    "        # Forward Propagation\n",
    "        z1 = X.dot(w1)\n",
    "        a1 = sigmoid(z1)\n",
    "        z2 = a1.dot(w2)\n",
    "        a2 = sigmoid(z2)\n",
    "\n",
    "        y_predict = np.argmax(a2, axis=1)\n",
    "        error = (y_predict != y).mean()\n",
    "\n",
    "        if epoch % (num_epoch // 10) == 0:\n",
    "            print(\"{0:3} error = {1:.5f}\".format(epoch, error))\n",
    "\n",
    "        errors.append({\n",
    "            'epoch': epoch,\n",
    "            'elapsed': time() - start,\n",
    "            'error': error,\n",
    "        })\n",
    "\n",
    "        # Backpropagation\n",
    "        d2 = (a2 - y_hot)\n",
    "        d1 = d2.dot(w2.T) * sigmoid_derivative(z1)\n",
    "\n",
    "        # Weight gradients\n",
    "        dw2 = a1.T.dot(d2)\n",
    "        dw1 = X.T.dot(d1)\n",
    "\n",
    "        w1, w2 = update_method(epoch, learning_rate, w1, w2, dw1, dw2)\n",
    "\n",
    "    print(\"----\" * 10)\n",
    "    print(\"{0:3} error = {1:.5f}\".format(epoch, error))\n",
    "    \n",
    "    errors = pd.DataFrame(errors)\n",
    "    errors = errors[[\"epoch\", \"elapsed\", \"error\"]]\n",
    "\n",
    "    return errors"
   ]
  },
  {
   "cell_type": "markdown",
   "metadata": {
    "collapsed": true
   },
   "source": [
    "### Stochastic Gradient Descent"
   ]
  },
  {
   "cell_type": "code",
   "execution_count": 11,
   "metadata": {},
   "outputs": [
    {
     "name": "stdout",
     "output_type": "stream",
     "text": [
      "  0 error = 0.87813\n",
      " 10 error = 0.14079\n",
      " 20 error = 0.08681\n",
      " 30 error = 0.07012\n",
      " 40 error = 0.06010\n",
      " 50 error = 0.05120\n",
      " 60 error = 0.04452\n",
      " 70 error = 0.03895\n",
      " 80 error = 0.03673\n",
      " 90 error = 0.03228\n",
      "----------------------------------------\n",
      " 99 error = 0.02894\n"
     ]
    },
    {
     "data": {
      "text/html": [
       "<div>\n",
       "<style scoped>\n",
       "    .dataframe tbody tr th:only-of-type {\n",
       "        vertical-align: middle;\n",
       "    }\n",
       "\n",
       "    .dataframe tbody tr th {\n",
       "        vertical-align: top;\n",
       "    }\n",
       "\n",
       "    .dataframe thead th {\n",
       "        text-align: right;\n",
       "    }\n",
       "</style>\n",
       "<table border=\"1\" class=\"dataframe\">\n",
       "  <thead>\n",
       "    <tr style=\"text-align: right;\">\n",
       "      <th></th>\n",
       "      <th>epoch</th>\n",
       "      <th>elapsed</th>\n",
       "      <th>error</th>\n",
       "    </tr>\n",
       "  </thead>\n",
       "  <tbody>\n",
       "    <tr>\n",
       "      <th>0</th>\n",
       "      <td>0</td>\n",
       "      <td>0.026012</td>\n",
       "      <td>0.878130</td>\n",
       "    </tr>\n",
       "    <tr>\n",
       "      <th>1</th>\n",
       "      <td>1</td>\n",
       "      <td>0.059034</td>\n",
       "      <td>0.772398</td>\n",
       "    </tr>\n",
       "    <tr>\n",
       "      <th>2</th>\n",
       "      <td>2</td>\n",
       "      <td>0.088057</td>\n",
       "      <td>0.641068</td>\n",
       "    </tr>\n",
       "    <tr>\n",
       "      <th>3</th>\n",
       "      <td>3</td>\n",
       "      <td>0.118077</td>\n",
       "      <td>0.487479</td>\n",
       "    </tr>\n",
       "    <tr>\n",
       "      <th>4</th>\n",
       "      <td>4</td>\n",
       "      <td>0.142093</td>\n",
       "      <td>0.382304</td>\n",
       "    </tr>\n",
       "    <tr>\n",
       "      <th>5</th>\n",
       "      <td>5</td>\n",
       "      <td>0.159801</td>\n",
       "      <td>0.304953</td>\n",
       "    </tr>\n",
       "    <tr>\n",
       "      <th>6</th>\n",
       "      <td>6</td>\n",
       "      <td>0.191050</td>\n",
       "      <td>0.251530</td>\n",
       "    </tr>\n",
       "    <tr>\n",
       "      <th>7</th>\n",
       "      <td>7</td>\n",
       "      <td>0.217052</td>\n",
       "      <td>0.205342</td>\n",
       "    </tr>\n",
       "    <tr>\n",
       "      <th>8</th>\n",
       "      <td>8</td>\n",
       "      <td>0.244069</td>\n",
       "      <td>0.180857</td>\n",
       "    </tr>\n",
       "    <tr>\n",
       "      <th>9</th>\n",
       "      <td>9</td>\n",
       "      <td>0.270090</td>\n",
       "      <td>0.158598</td>\n",
       "    </tr>\n",
       "  </tbody>\n",
       "</table>\n",
       "</div>"
      ],
      "text/plain": [
       "   epoch   elapsed     error\n",
       "0      0  0.026012  0.878130\n",
       "1      1  0.059034  0.772398\n",
       "2      2  0.088057  0.641068\n",
       "3      3  0.118077  0.487479\n",
       "4      4  0.142093  0.382304\n",
       "5      5  0.159801  0.304953\n",
       "6      6  0.191050  0.251530\n",
       "7      7  0.217052  0.205342\n",
       "8      8  0.244069  0.180857\n",
       "9      9  0.270090  0.158598"
      ]
     },
     "execution_count": 11,
     "metadata": {},
     "output_type": "execute_result"
    }
   ],
   "source": [
    "def update_sgd(epoch, learning_rate, w1, w2, dw1, dw2):\n",
    "    w2 = w2 - learning_rate * dw2\n",
    "    w1 = w1 - learning_rate * dw1\n",
    "    \n",
    "    return w1, w2\n",
    "\n",
    "num_epoch = 100\n",
    "learning_rate = 0.0001\n",
    "\n",
    "errors_sgd = train(X, y, num_epoch, learning_rate, update_method=update_sgd)\n",
    "\n",
    "errors_sgd.head(10)"
   ]
  },
  {
   "cell_type": "code",
   "execution_count": 12,
   "metadata": {},
   "outputs": [
    {
     "data": {
      "text/plain": [
       "<matplotlib.legend.Legend at 0x1da2d652860>"
      ]
     },
     "execution_count": 12,
     "metadata": {},
     "output_type": "execute_result"
    },
    {
     "data": {
      "image/png": "[encoded data removed]",
      "text/plain": [
       "<matplotlib.figure.Figure at 0x1da2a0612b0>"
      ]
     },
     "metadata": {},
     "output_type": "display_data"
    }
   ],
   "source": [
    "plt.plot(errors_sgd['elapsed'],\n",
    "         errors_sgd['error'],\n",
    "         label=\"SGD\")\n",
    "\n",
    "plt.legend()"
   ]
  },
  {
   "cell_type": "markdown",
   "metadata": {},
   "source": [
    "### Momentum"
   ]
  },
  {
   "cell_type": "code",
   "execution_count": 13,
   "metadata": {},
   "outputs": [
    {
     "name": "stdout",
     "output_type": "stream",
     "text": [
      "  0 error = 0.90039\n",
      " 10 error = 0.47746\n",
      " 20 error = 0.12855\n",
      " 30 error = 0.06066\n",
      " 40 error = 0.03339\n",
      " 50 error = 0.02226\n",
      " 60 error = 0.01503\n",
      " 70 error = 0.01002\n",
      " 80 error = 0.00668\n",
      " 90 error = 0.00556\n",
      "----------------------------------------\n",
      " 99 error = 0.00556\n"
     ]
    },
    {
     "data": {
      "text/html": [
       "<div>\n",
       "<style scoped>\n",
       "    .dataframe tbody tr th:only-of-type {\n",
       "        vertical-align: middle;\n",
       "    }\n",
       "\n",
       "    .dataframe tbody tr th {\n",
       "        vertical-align: top;\n",
       "    }\n",
       "\n",
       "    .dataframe thead th {\n",
       "        text-align: right;\n",
       "    }\n",
       "</style>\n",
       "<table border=\"1\" class=\"dataframe\">\n",
       "  <thead>\n",
       "    <tr style=\"text-align: right;\">\n",
       "      <th></th>\n",
       "      <th>epoch</th>\n",
       "      <th>elapsed</th>\n",
       "      <th>error</th>\n",
       "    </tr>\n",
       "  </thead>\n",
       "  <tbody>\n",
       "    <tr>\n",
       "      <th>0</th>\n",
       "      <td>0</td>\n",
       "      <td>0.015012</td>\n",
       "      <td>0.900390</td>\n",
       "    </tr>\n",
       "    <tr>\n",
       "      <th>1</th>\n",
       "      <td>1</td>\n",
       "      <td>0.047032</td>\n",
       "      <td>0.887590</td>\n",
       "    </tr>\n",
       "    <tr>\n",
       "      <th>2</th>\n",
       "      <td>2</td>\n",
       "      <td>0.070252</td>\n",
       "      <td>0.890373</td>\n",
       "    </tr>\n",
       "    <tr>\n",
       "      <th>3</th>\n",
       "      <td>3</td>\n",
       "      <td>0.085877</td>\n",
       "      <td>0.838063</td>\n",
       "    </tr>\n",
       "    <tr>\n",
       "      <th>4</th>\n",
       "      <td>4</td>\n",
       "      <td>0.117127</td>\n",
       "      <td>0.792432</td>\n",
       "    </tr>\n",
       "    <tr>\n",
       "      <th>5</th>\n",
       "      <td>5</td>\n",
       "      <td>0.132755</td>\n",
       "      <td>0.658319</td>\n",
       "    </tr>\n",
       "    <tr>\n",
       "      <th>6</th>\n",
       "      <td>6</td>\n",
       "      <td>0.164004</td>\n",
       "      <td>0.555927</td>\n",
       "    </tr>\n",
       "    <tr>\n",
       "      <th>7</th>\n",
       "      <td>7</td>\n",
       "      <td>0.179628</td>\n",
       "      <td>0.549249</td>\n",
       "    </tr>\n",
       "    <tr>\n",
       "      <th>8</th>\n",
       "      <td>8</td>\n",
       "      <td>0.195255</td>\n",
       "      <td>0.617140</td>\n",
       "    </tr>\n",
       "    <tr>\n",
       "      <th>9</th>\n",
       "      <td>9</td>\n",
       "      <td>0.235092</td>\n",
       "      <td>0.423484</td>\n",
       "    </tr>\n",
       "  </tbody>\n",
       "</table>\n",
       "</div>"
      ],
      "text/plain": [
       "   epoch   elapsed     error\n",
       "0      0  0.015012  0.900390\n",
       "1      1  0.047032  0.887590\n",
       "2      2  0.070252  0.890373\n",
       "3      3  0.085877  0.838063\n",
       "4      4  0.117127  0.792432\n",
       "5      5  0.132755  0.658319\n",
       "6      6  0.164004  0.555927\n",
       "7      7  0.179628  0.549249\n",
       "8      8  0.195255  0.617140\n",
       "9      9  0.235092  0.423484"
      ]
     },
     "execution_count": 13,
     "metadata": {},
     "output_type": "execute_result"
    }
   ],
   "source": [
    "# write your code here!\n",
    "\n",
    "# 보통 mu는 처음에 0.9로 지정\n",
    "\n",
    "mu = 0.9\n",
    "cache_dw1, cache_dw2 = 0, 0\n",
    "\n",
    "def update_momentum(epoch, learning_rate, w1, w2, dw1, dw2):\n",
    "    global cache_dw1, cache_dw2\n",
    "    \n",
    "    cache_dw2 = mu * cache_dw2 - learning_rate * dw2\n",
    "    w2 = w2 + cache_dw2\n",
    "    \n",
    "    cache_dw1 = mu * cache_dw1 - learning_rate * dw1\n",
    "    w1 = w1 + cache_dw1\n",
    "    \n",
    "    return w1, w2\n",
    "\n",
    "num_epoch = 100\n",
    "learning_rate = 0.0001\n",
    "\n",
    "errors_momentum = train(X, y, num_epoch, learning_rate,\n",
    "                       update_method = update_momentum)\n",
    "errors_momentum.head(10)"
   ]
  },
  {
   "cell_type": "code",
   "execution_count": 14,
   "metadata": {},
   "outputs": [
    {
     "data": {
      "text/plain": [
       "<matplotlib.legend.Legend at 0x1da2d6bdf60>"
      ]
     },
     "execution_count": 14,
     "metadata": {},
     "output_type": "execute_result"
    },
    {
     "data": {
      "image/png": "[encoded data removed]",
      "text/plain": [
       "<matplotlib.figure.Figure at 0x1da2d667cc0>"
      ]
     },
     "metadata": {},
     "output_type": "display_data"
    }
   ],
   "source": [
    "plt.plot(errors_sgd['elapsed'], errors_sgd['error'], label=\"SGD\")\n",
    "plt.plot(errors_momentum['elapsed'], errors_momentum['error'], label=\"momentum\")\n",
    "\n",
    "plt.legend()"
   ]
  },
  {
   "cell_type": "markdown",
   "metadata": {},
   "source": [
    "### Nesterov Momentum"
   ]
  },
  {
   "cell_type": "code",
   "execution_count": 15,
   "metadata": {},
   "outputs": [
    {
     "name": "stdout",
     "output_type": "stream",
     "text": [
      "  0 error = 0.91208\n",
      " 10 error = 0.21536\n",
      " 20 error = 0.07234\n",
      " 30 error = 0.03840\n",
      " 40 error = 0.02226\n",
      " 50 error = 0.01391\n",
      " 60 error = 0.00890\n",
      " 70 error = 0.00723\n",
      " 80 error = 0.00612\n",
      " 90 error = 0.00501\n",
      "----------------------------------------\n",
      " 99 error = 0.00501\n"
     ]
    },
    {
     "data": {
      "text/html": [
       "<div>\n",
       "<style scoped>\n",
       "    .dataframe tbody tr th:only-of-type {\n",
       "        vertical-align: middle;\n",
       "    }\n",
       "\n",
       "    .dataframe tbody tr th {\n",
       "        vertical-align: top;\n",
       "    }\n",
       "\n",
       "    .dataframe thead th {\n",
       "        text-align: right;\n",
       "    }\n",
       "</style>\n",
       "<table border=\"1\" class=\"dataframe\">\n",
       "  <thead>\n",
       "    <tr style=\"text-align: right;\">\n",
       "      <th></th>\n",
       "      <th>epoch</th>\n",
       "      <th>elapsed</th>\n",
       "      <th>error</th>\n",
       "    </tr>\n",
       "  </thead>\n",
       "  <tbody>\n",
       "    <tr>\n",
       "      <th>0</th>\n",
       "      <td>0</td>\n",
       "      <td>0.010991</td>\n",
       "      <td>0.912076</td>\n",
       "    </tr>\n",
       "    <tr>\n",
       "      <th>1</th>\n",
       "      <td>1</td>\n",
       "      <td>0.040011</td>\n",
       "      <td>0.872565</td>\n",
       "    </tr>\n",
       "    <tr>\n",
       "      <th>2</th>\n",
       "      <td>2</td>\n",
       "      <td>0.067031</td>\n",
       "      <td>0.808570</td>\n",
       "    </tr>\n",
       "    <tr>\n",
       "      <th>3</th>\n",
       "      <td>3</td>\n",
       "      <td>0.093058</td>\n",
       "      <td>0.780189</td>\n",
       "    </tr>\n",
       "    <tr>\n",
       "      <th>4</th>\n",
       "      <td>4</td>\n",
       "      <td>0.123070</td>\n",
       "      <td>0.700056</td>\n",
       "    </tr>\n",
       "    <tr>\n",
       "      <th>5</th>\n",
       "      <td>5</td>\n",
       "      <td>0.144085</td>\n",
       "      <td>0.499722</td>\n",
       "    </tr>\n",
       "    <tr>\n",
       "      <th>6</th>\n",
       "      <td>6</td>\n",
       "      <td>0.168102</td>\n",
       "      <td>0.402894</td>\n",
       "    </tr>\n",
       "    <tr>\n",
       "      <th>7</th>\n",
       "      <td>7</td>\n",
       "      <td>0.188786</td>\n",
       "      <td>0.297718</td>\n",
       "    </tr>\n",
       "    <tr>\n",
       "      <th>8</th>\n",
       "      <td>8</td>\n",
       "      <td>0.204411</td>\n",
       "      <td>0.224263</td>\n",
       "    </tr>\n",
       "    <tr>\n",
       "      <th>9</th>\n",
       "      <td>9</td>\n",
       "      <td>0.236261</td>\n",
       "      <td>0.218141</td>\n",
       "    </tr>\n",
       "  </tbody>\n",
       "</table>\n",
       "</div>"
      ],
      "text/plain": [
       "   epoch   elapsed     error\n",
       "0      0  0.010991  0.912076\n",
       "1      1  0.040011  0.872565\n",
       "2      2  0.067031  0.808570\n",
       "3      3  0.093058  0.780189\n",
       "4      4  0.123070  0.700056\n",
       "5      5  0.144085  0.499722\n",
       "6      6  0.168102  0.402894\n",
       "7      7  0.188786  0.297718\n",
       "8      8  0.204411  0.224263\n",
       "9      9  0.236261  0.218141"
      ]
     },
     "execution_count": 15,
     "metadata": {},
     "output_type": "execute_result"
    }
   ],
   "source": [
    "# write your code here!\n",
    "\n",
    "# write your code here!\n",
    "\n",
    "# 보통 mu는 처음에 0.9로 지정\n",
    "\n",
    "mu = 0.9\n",
    "cache_dw1, cache_dw2 = 0, 0\n",
    "\n",
    "def update_nesterov(epoch, learning_rate, w1, w2, dw1, dw2):\n",
    "    global cache_dw1, cache_dw2\n",
    "    \n",
    "    dw2_prev= cache_dw2\n",
    "    cache_dw2 = mu * cache_dw2 - learning_rate * dw2\n",
    "    w2 = w2 + (-mu * dw2_prev) + (1+mu) * cache_dw2\n",
    "    \n",
    "    dw1_prev= cache_dw1\n",
    "    cache_dw1 = mu * cache_dw1 - learning_rate * dw1\n",
    "    w1 = w1 + (-mu * dw1_prev) + (1+mu) * cache_dw1\n",
    "    \n",
    "    return w1, w2\n",
    "\n",
    "num_epoch = 100\n",
    "learning_rate = 0.0001\n",
    "\n",
    "errors_nesterov = train(X, y, num_epoch, learning_rate,\n",
    "                       update_method = update_nesterov)\n",
    "errors_nesterov.head(10)"
   ]
  },
  {
   "cell_type": "code",
   "execution_count": 16,
   "metadata": {},
   "outputs": [
    {
     "data": {
      "text/plain": [
       "<matplotlib.legend.Legend at 0x1da2e020e48>"
      ]
     },
     "execution_count": 16,
     "metadata": {},
     "output_type": "execute_result"
    },
    {
     "data": {
      "image/png": "[encoded data removed]",
      "text/plain": [
       "<matplotlib.figure.Figure at 0x1da2d6fd4e0>"
      ]
     },
     "metadata": {},
     "output_type": "display_data"
    }
   ],
   "source": [
    "plt.plot(errors_sgd['elapsed'], errors_sgd['error'], label=\"SGD\")\n",
    "plt.plot(errors_momentum['elapsed'], errors_momentum['error'], label=\"momentum\")\n",
    "plt.plot(errors_nesterov['elapsed'], errors_nesterov['error'], label=\"nesterov\")\n",
    "\n",
    "plt.legend()"
   ]
  },
  {
   "cell_type": "markdown",
   "metadata": {
    "collapsed": true
   },
   "source": [
    "### AdaGrad"
   ]
  },
  {
   "cell_type": "code",
   "execution_count": 19,
   "metadata": {},
   "outputs": [
    {
     "name": "stdout",
     "output_type": "stream",
     "text": [
      "  0 error = 0.86867\n",
      " 10 error = 0.14357\n",
      " 20 error = 0.10351\n",
      " 30 error = 0.07123\n",
      " 40 error = 0.05620\n",
      " 50 error = 0.05008\n",
      " 60 error = 0.04508\n",
      " 70 error = 0.04118\n",
      " 80 error = 0.03339\n",
      " 90 error = 0.02838\n",
      "----------------------------------------\n",
      " 99 error = 0.02782\n"
     ]
    },
    {
     "data": {
      "text/html": [
       "<div>\n",
       "<style scoped>\n",
       "    .dataframe tbody tr th:only-of-type {\n",
       "        vertical-align: middle;\n",
       "    }\n",
       "\n",
       "    .dataframe tbody tr th {\n",
       "        vertical-align: top;\n",
       "    }\n",
       "\n",
       "    .dataframe thead th {\n",
       "        text-align: right;\n",
       "    }\n",
       "</style>\n",
       "<table border=\"1\" class=\"dataframe\">\n",
       "  <thead>\n",
       "    <tr style=\"text-align: right;\">\n",
       "      <th></th>\n",
       "      <th>epoch</th>\n",
       "      <th>elapsed</th>\n",
       "      <th>error</th>\n",
       "    </tr>\n",
       "  </thead>\n",
       "  <tbody>\n",
       "    <tr>\n",
       "      <th>0</th>\n",
       "      <td>0</td>\n",
       "      <td>0.010007</td>\n",
       "      <td>0.868670</td>\n",
       "    </tr>\n",
       "    <tr>\n",
       "      <th>1</th>\n",
       "      <td>1</td>\n",
       "      <td>0.039028</td>\n",
       "      <td>0.832499</td>\n",
       "    </tr>\n",
       "    <tr>\n",
       "      <th>2</th>\n",
       "      <td>2</td>\n",
       "      <td>0.067047</td>\n",
       "      <td>0.683361</td>\n",
       "    </tr>\n",
       "    <tr>\n",
       "      <th>3</th>\n",
       "      <td>3</td>\n",
       "      <td>0.096068</td>\n",
       "      <td>0.538119</td>\n",
       "    </tr>\n",
       "    <tr>\n",
       "      <th>4</th>\n",
       "      <td>4</td>\n",
       "      <td>0.128092</td>\n",
       "      <td>0.355036</td>\n",
       "    </tr>\n",
       "    <tr>\n",
       "      <th>5</th>\n",
       "      <td>5</td>\n",
       "      <td>0.156110</td>\n",
       "      <td>0.259878</td>\n",
       "    </tr>\n",
       "    <tr>\n",
       "      <th>6</th>\n",
       "      <td>6</td>\n",
       "      <td>0.178126</td>\n",
       "      <td>0.212020</td>\n",
       "    </tr>\n",
       "    <tr>\n",
       "      <th>7</th>\n",
       "      <td>7</td>\n",
       "      <td>0.186249</td>\n",
       "      <td>0.180301</td>\n",
       "    </tr>\n",
       "    <tr>\n",
       "      <th>8</th>\n",
       "      <td>8</td>\n",
       "      <td>0.217500</td>\n",
       "      <td>0.157485</td>\n",
       "    </tr>\n",
       "    <tr>\n",
       "      <th>9</th>\n",
       "      <td>9</td>\n",
       "      <td>0.244439</td>\n",
       "      <td>0.148024</td>\n",
       "    </tr>\n",
       "  </tbody>\n",
       "</table>\n",
       "</div>"
      ],
      "text/plain": [
       "   epoch   elapsed     error\n",
       "0      0  0.010007  0.868670\n",
       "1      1  0.039028  0.832499\n",
       "2      2  0.067047  0.683361\n",
       "3      3  0.096068  0.538119\n",
       "4      4  0.128092  0.355036\n",
       "5      5  0.156110  0.259878\n",
       "6      6  0.178126  0.212020\n",
       "7      7  0.186249  0.180301\n",
       "8      8  0.217500  0.157485\n",
       "9      9  0.244439  0.148024"
      ]
     },
     "execution_count": 19,
     "metadata": {},
     "output_type": "execute_result"
    }
   ],
   "source": [
    "# write your code here!\n",
    "\n",
    "# 보통 mu는 처음에 0.9로 지정\n",
    "\n",
    "mu = 0.9\n",
    "eps = 0.000000001\n",
    "cache_dw1, cache_dw2 = 0, 0\n",
    "\n",
    "def update_adagrad(epoch, learning_rate, w1, w2, dw1, dw2):\n",
    "    global cache_dw1, cache_dw2\n",
    "    \n",
    "    cache_dw2 = cache_dw2 + dw2 ** 2\n",
    "    w2 = w2 - learning_rate * dw2 / np.sqrt(cache_dw2 + eps)\n",
    "    \n",
    "    cache_dw1 = cache_dw1 + dw1 ** 2\n",
    "    w1 = w1 - learning_rate * dw1 / np.sqrt(cache_dw1 + eps)\n",
    "    \n",
    "    return w1, w2\n",
    "\n",
    "num_epoch = 100\n",
    "learning_rate = 0.01\n",
    "#learning_rate가 momentum보다 보통 크다; momentum은 워낙 빠르니까.\n",
    "\n",
    "errors_adagrad = train(X, y, num_epoch, learning_rate,\n",
    "                       update_method = update_adagrad)\n",
    "errors_adagrad.head(10)"
   ]
  },
  {
   "cell_type": "code",
   "execution_count": 20,
   "metadata": {},
   "outputs": [
    {
     "data": {
      "text/plain": [
       "<matplotlib.legend.Legend at 0x1da2e09e860>"
      ]
     },
     "execution_count": 20,
     "metadata": {},
     "output_type": "execute_result"
    },
    {
     "data": {
      "image/png": "[encoded data removed]",
      "text/plain": [
       "<matplotlib.figure.Figure at 0x1da2e0529e8>"
      ]
     },
     "metadata": {},
     "output_type": "display_data"
    }
   ],
   "source": [
    "plt.plot(errors_sgd['elapsed'], errors_sgd['error'], label=\"SGD\")\n",
    "plt.plot(errors_momentum['elapsed'], errors_momentum['error'], label=\"momentum\")\n",
    "plt.plot(errors_nesterov['elapsed'], errors_nesterov['error'], label=\"nesterov\")\n",
    "plt.plot(errors_adagrad['elapsed'], errors_adagrad['error'], label=\"adagrad\")\n",
    "#momentum에 비해 adaptive 방법이 덜 수렴되는 경향이 있긴 하다.\n",
    "\n",
    "plt.legend()"
   ]
  },
  {
   "cell_type": "markdown",
   "metadata": {},
   "source": [
    "### RMSProp"
   ]
  },
  {
   "cell_type": "code",
   "execution_count": 23,
   "metadata": {},
   "outputs": [
    {
     "name": "stdout",
     "output_type": "stream",
     "text": [
      "  0 error = 0.96327\n",
      " 10 error = 0.44073\n",
      " 20 error = 0.25376\n",
      " 30 error = 0.13801\n",
      " 40 error = 0.12799\n",
      " 50 error = 0.06288\n",
      " 60 error = 0.05064\n",
      " 70 error = 0.04563\n",
      " 80 error = 0.04786\n",
      " 90 error = 0.02838\n",
      "----------------------------------------\n",
      " 99 error = 0.02059\n"
     ]
    },
    {
     "data": {
      "text/html": [
       "<div>\n",
       "<style scoped>\n",
       "    .dataframe tbody tr th:only-of-type {\n",
       "        vertical-align: middle;\n",
       "    }\n",
       "\n",
       "    .dataframe tbody tr th {\n",
       "        vertical-align: top;\n",
       "    }\n",
       "\n",
       "    .dataframe thead th {\n",
       "        text-align: right;\n",
       "    }\n",
       "</style>\n",
       "<table border=\"1\" class=\"dataframe\">\n",
       "  <thead>\n",
       "    <tr style=\"text-align: right;\">\n",
       "      <th></th>\n",
       "      <th>epoch</th>\n",
       "      <th>elapsed</th>\n",
       "      <th>error</th>\n",
       "    </tr>\n",
       "  </thead>\n",
       "  <tbody>\n",
       "    <tr>\n",
       "      <th>0</th>\n",
       "      <td>0</td>\n",
       "      <td>0.011008</td>\n",
       "      <td>0.963272</td>\n",
       "    </tr>\n",
       "    <tr>\n",
       "      <th>1</th>\n",
       "      <td>1</td>\n",
       "      <td>0.037024</td>\n",
       "      <td>0.879800</td>\n",
       "    </tr>\n",
       "    <tr>\n",
       "      <th>2</th>\n",
       "      <td>2</td>\n",
       "      <td>0.066048</td>\n",
       "      <td>0.895938</td>\n",
       "    </tr>\n",
       "    <tr>\n",
       "      <th>3</th>\n",
       "      <td>3</td>\n",
       "      <td>0.094066</td>\n",
       "      <td>0.903172</td>\n",
       "    </tr>\n",
       "    <tr>\n",
       "      <th>4</th>\n",
       "      <td>4</td>\n",
       "      <td>0.120085</td>\n",
       "      <td>0.774624</td>\n",
       "    </tr>\n",
       "    <tr>\n",
       "      <th>5</th>\n",
       "      <td>5</td>\n",
       "      <td>0.153109</td>\n",
       "      <td>0.790762</td>\n",
       "    </tr>\n",
       "    <tr>\n",
       "      <th>6</th>\n",
       "      <td>6</td>\n",
       "      <td>0.181127</td>\n",
       "      <td>0.775181</td>\n",
       "    </tr>\n",
       "    <tr>\n",
       "      <th>7</th>\n",
       "      <td>7</td>\n",
       "      <td>0.209147</td>\n",
       "      <td>0.427379</td>\n",
       "    </tr>\n",
       "    <tr>\n",
       "      <th>8</th>\n",
       "      <td>8</td>\n",
       "      <td>0.234166</td>\n",
       "      <td>0.574290</td>\n",
       "    </tr>\n",
       "    <tr>\n",
       "      <th>9</th>\n",
       "      <td>9</td>\n",
       "      <td>0.265188</td>\n",
       "      <td>0.324430</td>\n",
       "    </tr>\n",
       "  </tbody>\n",
       "</table>\n",
       "</div>"
      ],
      "text/plain": [
       "   epoch   elapsed     error\n",
       "0      0  0.011008  0.963272\n",
       "1      1  0.037024  0.879800\n",
       "2      2  0.066048  0.895938\n",
       "3      3  0.094066  0.903172\n",
       "4      4  0.120085  0.774624\n",
       "5      5  0.153109  0.790762\n",
       "6      6  0.181127  0.775181\n",
       "7      7  0.209147  0.427379\n",
       "8      8  0.234166  0.574290\n",
       "9      9  0.265188  0.324430"
      ]
     },
     "execution_count": 23,
     "metadata": {},
     "output_type": "execute_result"
    }
   ],
   "source": [
    "# write your code here!\n",
    "\n",
    "# 보통 mu는 처음에 0.9로 지정\n",
    "\n",
    "decay = 0.995\n",
    "eps = 0.000000001\n",
    "cache_dw1, cache_dw2 = 0, 0\n",
    "\n",
    "def update_rmsprop(epoch, learning_rate, w1, w2, dw1, dw2):\n",
    "    global cache_dw1, cache_dw2\n",
    "    \n",
    "    cache_dw2 = decay * cache_dw2 + (1-decay) * dw2 ** 2\n",
    "    w2 = w2 - learning_rate * dw2 / np.sqrt(cache_dw2 + eps)\n",
    "    \n",
    "    cache_dw1 = decay * cache_dw1 + (1-decay) * dw1 ** 2\n",
    "    w1 = w1 - learning_rate * dw1 / np.sqrt(cache_dw1 + eps)\n",
    "    \n",
    "    return w1, w2\n",
    "\n",
    "num_epoch = 100\n",
    "learning_rate = 0.01\n",
    "#learning_rate가 momentum보다 보통 크다; momentum은 워낙 빠르니까.\n",
    "\n",
    "errors_rmsprop = train(X, y, num_epoch, learning_rate,\n",
    "                       update_method = update_rmsprop)\n",
    "errors_rmsprop.head(10)"
   ]
  },
  {
   "cell_type": "code",
   "execution_count": 24,
   "metadata": {},
   "outputs": [
    {
     "data": {
      "text/plain": [
       "<matplotlib.legend.Legend at 0x1da2e11cdd8>"
      ]
     },
     "execution_count": 24,
     "metadata": {},
     "output_type": "execute_result"
    },
    {
     "data": {
      "image/png": "[encoded data removed]",
      "text/plain": [
       "<matplotlib.figure.Figure at 0x1da2e0f3278>"
      ]
     },
     "metadata": {},
     "output_type": "display_data"
    }
   ],
   "source": [
    "plt.plot(errors_sgd['elapsed'], errors_sgd['error'], label=\"SGD\")\n",
    "plt.plot(errors_momentum['elapsed'], errors_momentum['error'], label=\"momentum\")\n",
    "plt.plot(errors_nesterov['elapsed'], errors_nesterov['error'], label=\"nesterov\")\n",
    "plt.plot(errors_adagrad['elapsed'], errors_adagrad['error'], label=\"adagrad\")\n",
    "plt.plot(errors_rmsprop['elapsed'], errors_rmsprop['error'], label=\"rmsprop\")\n",
    "#momentum에 비해 adaptive 방법이 덜 수렴되는 경향이 있긴 하다.\n",
    "\n",
    "plt.legend()"
   ]
  },
  {
   "cell_type": "markdown",
   "metadata": {},
   "source": [
    "### Adam"
   ]
  },
  {
   "cell_type": "code",
   "execution_count": 29,
   "metadata": {},
   "outputs": [
    {
     "name": "stdout",
     "output_type": "stream",
     "text": [
      "  0 error = 0.91319\n"
     ]
    },
    {
     "ename": "TypeError",
     "evalue": "'NoneType' object is not iterable",
     "output_type": "error",
     "traceback": [
      "\u001b[1;31m---------------------------------------------------------------------------\u001b[0m",
      "\u001b[1;31mTypeError\u001b[0m                                 Traceback (most recent call last)",
      "\u001b[1;32m<ipython-input-29-b175a0bc2488>\u001b[0m in \u001b[0;36m<module>\u001b[1;34m()\u001b[0m\n\u001b[0;32m     30\u001b[0m \u001b[1;33m\u001b[0m\u001b[0m\n\u001b[0;32m     31\u001b[0m errors_adam = train(X, y, num_epoch, learning_rate,\n\u001b[1;32m---> 32\u001b[1;33m                        update_method = update_adam)\n\u001b[0m\u001b[0;32m     33\u001b[0m \u001b[0merrors_adam\u001b[0m\u001b[1;33m.\u001b[0m\u001b[0mhead\u001b[0m\u001b[1;33m(\u001b[0m\u001b[1;36m10\u001b[0m\u001b[1;33m)\u001b[0m\u001b[1;33m\u001b[0m\u001b[0m\n",
      "\u001b[1;32m<ipython-input-10-eec53c8e6400>\u001b[0m in \u001b[0;36mtrain\u001b[1;34m(X, y, num_epoch, learning_rate, update_method)\u001b[0m\n\u001b[0;32m     41\u001b[0m         \u001b[0mdw1\u001b[0m \u001b[1;33m=\u001b[0m \u001b[0mX\u001b[0m\u001b[1;33m.\u001b[0m\u001b[0mT\u001b[0m\u001b[1;33m.\u001b[0m\u001b[0mdot\u001b[0m\u001b[1;33m(\u001b[0m\u001b[0md1\u001b[0m\u001b[1;33m)\u001b[0m\u001b[1;33m\u001b[0m\u001b[0m\n\u001b[0;32m     42\u001b[0m \u001b[1;33m\u001b[0m\u001b[0m\n\u001b[1;32m---> 43\u001b[1;33m         \u001b[0mw1\u001b[0m\u001b[1;33m,\u001b[0m \u001b[0mw2\u001b[0m \u001b[1;33m=\u001b[0m \u001b[0mupdate_method\u001b[0m\u001b[1;33m(\u001b[0m\u001b[0mepoch\u001b[0m\u001b[1;33m,\u001b[0m \u001b[0mlearning_rate\u001b[0m\u001b[1;33m,\u001b[0m \u001b[0mw1\u001b[0m\u001b[1;33m,\u001b[0m \u001b[0mw2\u001b[0m\u001b[1;33m,\u001b[0m \u001b[0mdw1\u001b[0m\u001b[1;33m,\u001b[0m \u001b[0mdw2\u001b[0m\u001b[1;33m)\u001b[0m\u001b[1;33m\u001b[0m\u001b[0m\n\u001b[0m\u001b[0;32m     44\u001b[0m \u001b[1;33m\u001b[0m\u001b[0m\n\u001b[0;32m     45\u001b[0m     \u001b[0mprint\u001b[0m\u001b[1;33m(\u001b[0m\u001b[1;34m\"----\"\u001b[0m \u001b[1;33m*\u001b[0m \u001b[1;36m10\u001b[0m\u001b[1;33m)\u001b[0m\u001b[1;33m\u001b[0m\u001b[0m\n",
      "\u001b[1;31mTypeError\u001b[0m: 'NoneType' object is not iterable"
     ]
    }
   ],
   "source": [
    "# write your code here!\n",
    "\n",
    "beta1 = 0.9\n",
    "beta2 = 0.99\n",
    "\n",
    "eps = 0.0000001\n",
    "\n",
    "dw1m, dw2m = 0, 0\n",
    "dw1v, dw2v = 0, 0\n",
    "\n",
    "def update_adam(epoch, learning_rate, w1, w2, dw1, dw2):\n",
    "    global dw1m, dw2m\n",
    "    global dw1v, dw2v\n",
    "    \n",
    "    dw2m = beta1 * dw2m + (1-beta1) * dw2\n",
    "    dw2v = beta2 * dw2v + (1-beta2) * (dw2 ** 2)\n",
    "    dw2mb = dw2m / (1 - beta1 ** (1 + epoch))\n",
    "    dw2vb = dw2v / (1 - beta2 ** (1 + epoch))\n",
    "    w2 = w2 - learning_rate * dw2mb / np.sqrt(dw2vb + eps)\n",
    "    \n",
    "    dw1m = beta1 * dw1m + (1-beta1) * dw1\n",
    "    dw1v = beta2 * dw1v + (1-beta2) * (dw1 ** 2)\n",
    "    dw1mb = dw1m / (1 - beta1 ** (1 + epoch))\n",
    "    dw1vb = dw1v / (1 - beta2 ** (1 + epoch))\n",
    "    w1 = w1 - learning_rate * dw1mb / np.sqrt(dw1vb + eps)\n",
    "\n",
    "num_epoch = 100\n",
    "learning_rate = 0.01\n",
    "#learning_rate가 momentum보다 보통 크다; momentum은 워낙 빠르니까.\n",
    "\n",
    "errors_adam = train(X, y, num_epoch, learning_rate,\n",
    "                       update_method = update_adam)\n",
    "errors_adam.head(10)"
   ]
  },
  {
   "cell_type": "code",
   "execution_count": null,
   "metadata": {
    "collapsed": true
   },
   "outputs": [],
   "source": []
  }
 ],
 "metadata": {
  "kernelspec": {
   "display_name": "Python 3",
   "language": "python",
   "name": "python3"
  },
  "language_info": {
   "codemirror_mode": {
    "name": "ipython",
    "version": 3
   },
   "file_extension": ".py",
   "mimetype": "text/x-python",
   "name": "python",
   "nbconvert_exporter": "python",
   "pygments_lexer": "ipython3",
   "version": "3.6.4"
  }
 },
 "nbformat": 4,
 "nbformat_minor": 2
}
